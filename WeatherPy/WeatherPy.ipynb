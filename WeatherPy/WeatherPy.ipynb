{
 "cells": [
  {
   "cell_type": "markdown",
   "metadata": {},
   "source": [
    "# WeatherPy\n",
    "----\n",
    "\n",
    "#### Note\n",
    "* Instructions have been included for each segment. You do not have to follow them exactly, but they are included to help you think through the steps."
   ]
  },
  {
   "cell_type": "code",
   "execution_count": 3,
   "metadata": {},
   "outputs": [],
   "source": [
    "# pip install citipy"
   ]
  },
  {
   "cell_type": "code",
   "execution_count": 1,
   "metadata": {
    "scrolled": true
   },
   "outputs": [],
   "source": [
    "# Dependencies and Setup\n",
    "import matplotlib.pyplot as plt\n",
    "import pandas as pd\n",
    "import numpy as np\n",
    "import requests\n",
    "import time\n",
    "from scipy.stats import linregress\n",
    "from pprint import pprint\n",
    "\n",
    "# Import API key\n",
    "from api_keys import weather_api_key\n",
    "\n",
    "# Incorporated citipy to determine city based on latitude and longitude\n",
    "from citipy import citipy\n",
    "\n",
    "# Output File (CSV)\n",
    "output_data_file = \"output_data/cities.csv\"\n",
    "\n",
    "# Range of latitudes and longitudes\n",
    "lat_range = (-90, 90)\n",
    "lng_range = (-180, 180)"
   ]
  },
  {
   "cell_type": "markdown",
   "metadata": {},
   "source": [
    "## Generate Cities List"
   ]
  },
  {
   "cell_type": "code",
   "execution_count": 2,
   "metadata": {},
   "outputs": [
    {
     "data": {
      "text/plain": [
       "625"
      ]
     },
     "execution_count": 2,
     "metadata": {},
     "output_type": "execute_result"
    }
   ],
   "source": [
    "# List for holding lat_lngs and cities\n",
    "lat_lngs = []\n",
    "cities = []\n",
    "\n",
    "# Create a set of random lat and lng combinations\n",
    "lats = np.random.uniform(lat_range[0], lat_range[1], size=1500)\n",
    "lngs = np.random.uniform(lng_range[0], lng_range[1], size=1500)\n",
    "lat_lngs = zip(lats, lngs)\n",
    "\n",
    "# Identify nearest city for each lat, lng combination\n",
    "for lat_lng in lat_lngs:\n",
    "    city = citipy.nearest_city(lat_lng[0], lat_lng[1]).city_name\n",
    "    \n",
    "    # If the city is unique, then add it to a our cities list\n",
    "    if city not in cities:\n",
    "        cities.append(city)\n",
    "\n",
    "# Print the city count to confirm sufficient count\n",
    "len(cities)"
   ]
  },
  {
   "cell_type": "markdown",
   "metadata": {},
   "source": [
    "### Perform API Calls\n",
    "* Perform a weather check on each city using a series of successive API calls.\n",
    "* Include a print log of each city as it'sbeing processed (with the city number and city name).\n"
   ]
  },
  {
   "cell_type": "code",
   "execution_count": 3,
   "metadata": {},
   "outputs": [],
   "source": [
    "url = \"http://api.openweathermap.org/data/2.5/weather?\"\n",
    "units = \"metric\"\n",
    "\n",
    "# Build partial query URL\n",
    "query_url = f\"{url}appid={weather_api_key}&units={units}&q=\""
   ]
  },
  {
   "cell_type": "code",
   "execution_count": 4,
   "metadata": {},
   "outputs": [
    {
     "name": "stdout",
     "output_type": "stream",
     "text": [
      "{'base': 'stations',\n",
      " 'clouds': {'all': 0},\n",
      " 'cod': 200,\n",
      " 'coord': {'lat': -33.9258, 'lon': 18.4232},\n",
      " 'dt': 1658933957,\n",
      " 'id': 3369157,\n",
      " 'main': {'feels_like': 16.73,\n",
      "          'humidity': 65,\n",
      "          'pressure': 1018,\n",
      "          'temp': 17.25,\n",
      "          'temp_max': 19.23,\n",
      "          'temp_min': 16.6},\n",
      " 'name': 'Cape Town',\n",
      " 'sys': {'country': 'ZA',\n",
      "         'id': 2073005,\n",
      "         'sunrise': 1658900558,\n",
      "         'sunset': 1658937765,\n",
      "         'type': 2},\n",
      " 'timezone': 7200,\n",
      " 'visibility': 10000,\n",
      " 'weather': [{'description': 'clear sky',\n",
      "              'icon': '01d',\n",
      "              'id': 800,\n",
      "              'main': 'Clear'}],\n",
      " 'wind': {'deg': 190, 'speed': 6.69}}\n"
     ]
    }
   ],
   "source": [
    "response = requests.get(query_url + city).json()\n",
    "pprint(response)"
   ]
  },
  {
   "cell_type": "code",
   "execution_count": 5,
   "metadata": {},
   "outputs": [
    {
     "name": "stdout",
     "output_type": "stream",
     "text": [
      "Beginning Data Retrieval...\n",
      "------------------------------\n",
      "Processing record 0 | longyearbyen\n",
      "illoqqortoormiut not found. Skipping...\n",
      "Processing record 1 | borogontsy\n",
      "Processing record 2 | mokhsogollokh\n",
      "Processing record 3 | sabzevar\n",
      "Processing record 4 | grand gaube\n",
      "Processing record 5 | kerman\n",
      "Processing record 6 | hithadhoo\n",
      "Processing record 7 | asau\n",
      "Processing record 8 | luderitz\n",
      "Processing record 9 | east london\n",
      "Processing record 10 | mataura\n",
      "Processing record 11 | bluff\n",
      "Processing record 12 | punta arenas\n",
      "Processing record 13 | victoria\n",
      "Processing record 14 | yar-sale\n",
      "Processing record 15 | axim\n",
      "Processing record 16 | carnarvon\n",
      "Processing record 17 | kedrovka\n",
      "Processing record 18 | kruisfontein\n",
      "Processing record 19 | aklavik\n",
      "Processing record 20 | albany\n",
      "belushya guba not found. Skipping...\n",
      "Processing record 21 | baena\n",
      "Processing record 22 | hasaki\n",
      "Processing record 23 | cidreira\n",
      "Processing record 24 | port macquarie\n",
      "Processing record 25 | ahipara\n",
      "Processing record 26 | rikitea\n",
      "Processing record 27 | guerrero negro\n",
      "Processing record 28 | ushuaia\n",
      "Processing record 29 | thaba-tseka\n",
      "Processing record 30 | tiznit\n",
      "Processing record 31 | saint-pierre\n",
      "Processing record 32 | koslan\n",
      "alotau not found. Skipping...\n",
      "Processing record 33 | berlevag\n",
      "Processing record 34 | banepa\n",
      "Processing record 35 | bethel\n",
      "Processing record 36 | tuktoyaktuk\n",
      "Processing record 37 | makakilo city\n",
      "Processing record 38 | cookeville\n",
      "Processing record 39 | ponta do sol\n",
      "Processing record 40 | pomezia\n",
      "Processing record 41 | hobart\n",
      "Processing record 42 | matagami\n",
      "Processing record 43 | saint-philippe\n",
      "Processing record 44 | qaanaaq\n",
      "Processing record 45 | new norfolk\n",
      "Processing record 46 | ben tre\n",
      "Processing record 47 | saldanha\n",
      "Processing record 48 | avarua\n",
      "attawapiskat not found. Skipping...\n",
      "Processing record 49 | playas\n",
      "Processing record 50 | samana\n",
      "Processing record 51 | rongcheng\n",
      "Processing record 52 | fairbanks\n",
      "Processing record 53 | bandarbeyla\n",
      "Processing record 54 | jamestown\n",
      "Processing record 55 | aasiaat\n",
      "Processing record 56 | tarko-sale\n",
      "Processing record 57 | khatanga\n",
      "Processing record 58 | cape town\n",
      "Processing record 59 | kapaa\n",
      "Processing record 60 | airai\n",
      "Processing record 61 | pevek\n",
      "Processing record 62 | mabaruma\n",
      "Processing record 63 | solnechnyy\n",
      "Processing record 64 | cabo san lucas\n",
      "Processing record 65 | roblin\n",
      "Processing record 66 | lhokseumawe\n",
      "Processing record 67 | thompson\n",
      "Processing record 68 | shihezi\n",
      "nguiu not found. Skipping...\n",
      "Processing record 69 | port alfred\n",
      "Processing record 70 | dongsheng\n",
      "Processing record 71 | busselton\n",
      "Processing record 72 | kurilsk\n",
      "Processing record 73 | lisakovsk\n",
      "Processing record 74 | berezovyy\n",
      "Processing record 75 | puerto ayora\n",
      "tsihombe not found. Skipping...\n",
      "ngukurr not found. Skipping...\n",
      "Processing record 76 | dikson\n",
      "Processing record 77 | barranca\n",
      "ondorhaan not found. Skipping...\n",
      "Processing record 78 | butaritari\n",
      "Processing record 79 | nikolskoye\n",
      "Processing record 80 | mareeba\n",
      "Processing record 81 | magistralnyy\n",
      "barentsburg not found. Skipping...\n",
      "Processing record 82 | bathsheba\n",
      "Processing record 83 | narsaq\n",
      "Processing record 84 | bilma\n",
      "Processing record 85 | castro\n",
      "Processing record 86 | betare oya\n",
      "Processing record 87 | urucui\n",
      "Processing record 88 | tabuk\n",
      "Processing record 89 | sakaiminato\n",
      "Processing record 90 | chicama\n",
      "Processing record 91 | lorengau\n",
      "Processing record 92 | ocampo\n",
      "Processing record 93 | meadow lake\n",
      "Processing record 94 | bukama\n",
      "bolungarvik not found. Skipping...\n",
      "Processing record 95 | port hardy\n",
      "Processing record 96 | torbay\n",
      "Processing record 97 | hermanus\n",
      "Processing record 98 | bariadi\n",
      "grand river south east not found. Skipping...\n",
      "Processing record 99 | lebu\n",
      "Processing record 100 | kovernino\n",
      "Processing record 101 | arraial do cabo\n",
      "Processing record 102 | husavik\n",
      "marcona not found. Skipping...\n",
      "taolanaro not found. Skipping...\n",
      "Processing record 103 | chuy\n",
      "Processing record 104 | abu dhabi\n",
      "kazalinsk not found. Skipping...\n",
      "Processing record 105 | ngunguru\n",
      "kosya not found. Skipping...\n",
      "Processing record 106 | camacha\n",
      "Processing record 107 | aswan\n",
      "Processing record 108 | yellowknife\n",
      "Processing record 109 | bengkulu\n",
      "Processing record 110 | hamilton\n",
      "Processing record 111 | sturgeon bay\n",
      "miranorte not found. Skipping...\n",
      "Processing record 112 | mount gambier\n",
      "Processing record 113 | henties bay\n",
      "Processing record 114 | iwanai\n",
      "Processing record 115 | saskylakh\n",
      "kadykchan not found. Skipping...\n",
      "Processing record 116 | bredasdorp\n",
      "Processing record 117 | lingao\n",
      "Processing record 118 | hovd\n",
      "Processing record 119 | chokurdakh\n",
      "Processing record 120 | soure\n",
      "Processing record 121 | kualakapuas\n",
      "Processing record 122 | calvinia\n",
      "Processing record 123 | saint-georges\n",
      "Processing record 124 | gladstone\n",
      "Processing record 125 | smithers\n",
      "skalistyy not found. Skipping...\n",
      "Processing record 126 | olafsvik\n",
      "Processing record 127 | dunedin\n",
      "Processing record 128 | klaksvik\n",
      "Processing record 129 | honningsvag\n",
      "Processing record 130 | marsa matruh\n",
      "Processing record 131 | kamaishi\n",
      "Processing record 132 | trujillo\n",
      "Processing record 133 | zhigansk\n",
      "Processing record 134 | chara\n",
      "Processing record 135 | gao\n",
      "Processing record 136 | tiarei\n",
      "Processing record 137 | tessalit\n",
      "Processing record 138 | kirakira\n",
      "Processing record 139 | beringovskiy\n",
      "Processing record 140 | samarai\n",
      "Processing record 141 | coahuayana\n",
      "Processing record 142 | caravelas\n",
      "Processing record 143 | namibe\n",
      "Processing record 144 | severo-kurilsk\n",
      "Processing record 145 | westerland\n",
      "Processing record 146 | saint-joseph\n",
      "Processing record 147 | vardo\n",
      "Processing record 148 | progreso\n",
      "Processing record 149 | lobva\n",
      "Processing record 150 | half moon bay\n",
      "Processing record 151 | isla vista\n",
      "Processing record 152 | aden\n",
      "Processing record 153 | komsomolskiy\n",
      "Processing record 154 | yongan\n",
      "Processing record 155 | banda aceh\n",
      "Processing record 156 | hambantota\n",
      "Processing record 157 | kieta\n",
      "Processing record 158 | apatou\n",
      "Processing record 159 | berdigestyakh\n",
      "Processing record 160 | dingle\n",
      "Processing record 161 | broome\n",
      "Processing record 162 | cayenne\n",
      "Processing record 163 | sorong\n",
      "Processing record 164 | kahului\n",
      "Processing record 165 | matamoros\n",
      "Processing record 166 | shuya\n",
      "Processing record 167 | lagoa\n",
      "Processing record 168 | sao filipe\n",
      "Processing record 169 | alice springs\n",
      "Processing record 170 | santa maria\n",
      "Processing record 171 | kavieng\n",
      "Processing record 172 | paragominas\n",
      "Processing record 173 | barrow\n",
      "Processing record 174 | lufilufi\n",
      "Processing record 175 | lavrentiya\n",
      "Processing record 176 | walvis bay\n",
      "Processing record 177 | faanui\n",
      "Processing record 178 | tarakan\n",
      "Processing record 179 | bonfim\n",
      "Processing record 180 | ust-kulom\n",
      "Processing record 181 | kalmunai\n",
      "Processing record 182 | kuytun\n",
      "Processing record 183 | makarov\n",
      "amderma not found. Skipping...\n",
      "Processing record 184 | xining\n",
      "Processing record 185 | bambous virieux\n",
      "Processing record 186 | teya\n",
      "Processing record 187 | udachnyy\n",
      "chungho not found. Skipping...\n",
      "Processing record 188 | tura\n",
      "Processing record 189 | georgetown\n",
      "Processing record 190 | kijang\n",
      "Processing record 191 | san patricio\n",
      "Processing record 192 | micheweni\n",
      "Processing record 193 | coquimbo\n",
      "Processing record 194 | ngaoundere\n",
      "Processing record 195 | ballina\n",
      "Processing record 196 | kamenka\n",
      "Processing record 197 | adrar\n",
      "Processing record 198 | padang\n",
      "Processing record 199 | mar del plata\n",
      "Processing record 200 | hilo\n",
      "samusu not found. Skipping...\n",
      "Processing record 201 | boa vista\n",
      "Processing record 202 | cahors\n",
      "ruatoria not found. Skipping...\n",
      "Processing record 203 | koungou\n",
      "Processing record 204 | kristiansund\n",
      "Processing record 205 | kupang\n",
      "Processing record 206 | constitucion\n",
      "Processing record 207 | nizhniy tsasuchey\n",
      "Processing record 208 | batouri\n",
      "Processing record 209 | cap malheureux\n",
      "rungata not found. Skipping...\n",
      "Processing record 210 | namatanai\n",
      "Processing record 211 | fort nelson\n",
      "ust-kamchatsk not found. Skipping...\n",
      "Processing record 212 | mehamn\n",
      "Processing record 213 | necochea\n",
      "Processing record 214 | cherskiy\n",
      "Processing record 215 | maldonado\n",
      "Processing record 216 | mahebourg\n",
      "Processing record 217 | taltal\n",
      "Processing record 218 | bangui\n",
      "Processing record 219 | itarema\n",
      "nizhneyansk not found. Skipping...\n",
      "Processing record 220 | arcata\n",
      "Processing record 221 | souillac\n",
      "satitoa not found. Skipping...\n"
     ]
    },
    {
     "name": "stdout",
     "output_type": "stream",
     "text": [
      "Processing record 222 | parkes\n",
      "Processing record 223 | krasnoselkup\n",
      "Processing record 224 | dubovskoye\n",
      "Processing record 225 | rostovka\n",
      "Processing record 226 | coromandel\n",
      "Processing record 227 | kodiak\n",
      "Processing record 228 | pampas\n",
      "Processing record 229 | clyde river\n",
      "Processing record 230 | alugan\n",
      "Processing record 231 | barcelona\n",
      "sentyabrskiy not found. Skipping...\n",
      "Processing record 232 | santa marta\n",
      "Processing record 233 | anadyr\n",
      "Processing record 234 | siyabuswa\n",
      "huitzuco not found. Skipping...\n",
      "Processing record 235 | boyolangu\n",
      "Processing record 236 | ilulissat\n",
      "Processing record 237 | nelson bay\n",
      "Processing record 238 | waingapu\n",
      "Processing record 239 | masyaf\n",
      "Processing record 240 | great falls\n",
      "Processing record 241 | saint-francois\n",
      "Processing record 242 | balad\n",
      "Processing record 243 | vaini\n",
      "Processing record 244 | atuona\n",
      "Processing record 245 | westport\n",
      "Processing record 246 | bayan\n",
      "Processing record 247 | parli\n",
      "Processing record 248 | humaita\n",
      "Processing record 249 | oruro\n",
      "Processing record 250 | virden\n",
      "Processing record 251 | veraval\n",
      "Processing record 252 | salalah\n",
      "Processing record 253 | grindavik\n",
      "Processing record 254 | pistsovo\n",
      "Processing record 255 | kangaatsiaq\n",
      "Processing record 256 | outjo\n",
      "Processing record 257 | katsuura\n",
      "Processing record 258 | ciudad bolivar\n",
      "Processing record 259 | guane\n",
      "Processing record 260 | sangar\n",
      "Processing record 261 | port blair\n",
      "Processing record 262 | tiksi\n",
      "Processing record 263 | ouro preto do oeste\n",
      "Processing record 264 | vostok\n",
      "Processing record 265 | chernyshevskiy\n",
      "Processing record 266 | seoul\n",
      "Processing record 267 | naples park\n",
      "Processing record 268 | vanavara\n",
      "Processing record 269 | pavilosta\n",
      "Processing record 270 | tucuma\n",
      "Processing record 271 | xuddur\n",
      "Processing record 272 | velyka lepetykha\n",
      "Processing record 273 | anshun\n",
      "Processing record 274 | paamiut\n",
      "Processing record 275 | araouane\n",
      "Processing record 276 | north vernon\n",
      "Processing record 277 | quatre cocos\n",
      "vaitupu not found. Skipping...\n",
      "Processing record 278 | melo\n",
      "Processing record 279 | dobrinka\n",
      "Processing record 280 | los llanos de aridane\n",
      "Processing record 281 | paita\n",
      "Processing record 282 | comodoro rivadavia\n",
      "Processing record 283 | inhambane\n",
      "Processing record 284 | teahupoo\n",
      "Processing record 285 | maumere\n",
      "Processing record 286 | mogadishu\n",
      "Processing record 287 | ulaangom\n",
      "Processing record 288 | amapa\n",
      "Processing record 289 | avera\n",
      "Processing record 290 | san quintin\n",
      "Processing record 291 | sao joao da barra\n",
      "Processing record 292 | provideniya\n",
      "Processing record 293 | saint george\n",
      "Processing record 294 | zambezi\n",
      "barawe not found. Skipping...\n",
      "Processing record 295 | nampula\n",
      "Processing record 296 | herat\n",
      "Processing record 297 | pionki\n",
      "Processing record 298 | hit\n",
      "Processing record 299 | santa rosa\n",
      "Processing record 300 | kaspiyskiy\n",
      "Processing record 301 | changping\n",
      "Processing record 302 | havre-saint-pierre\n",
      "Processing record 303 | praia da vitoria\n",
      "Processing record 304 | neepawa\n",
      "Processing record 305 | labuhan\n",
      "Processing record 306 | norman wells\n",
      "Processing record 307 | umreth\n",
      "Processing record 308 | richards bay\n",
      "Processing record 309 | gandajika\n",
      "Processing record 310 | pyra\n",
      "Processing record 311 | dhidhdhoo\n",
      "Processing record 312 | pingliang\n",
      "Processing record 313 | bilibino\n",
      "Processing record 314 | karratha\n",
      "Processing record 315 | guarapari\n",
      "Processing record 316 | lincoln\n",
      "Processing record 317 | povenets\n",
      "Processing record 318 | les cayes\n",
      "Processing record 319 | vangaindrano\n",
      "araguatins not found. Skipping...\n",
      "Processing record 320 | boralday\n",
      "Processing record 321 | rio grande\n",
      "Processing record 322 | george town\n",
      "Processing record 323 | ribeira grande\n",
      "Processing record 324 | sola\n",
      "Processing record 325 | dongli\n",
      "Processing record 326 | limulunga\n",
      "Processing record 327 | acari\n",
      "Processing record 328 | montbrison\n",
      "Processing record 329 | banyuwangi\n",
      "warqla not found. Skipping...\n",
      "Processing record 330 | flinders\n",
      "mys shmidta not found. Skipping...\n",
      "Processing record 331 | bokoro\n",
      "Processing record 332 | baiyin\n",
      "Processing record 333 | palmer\n",
      "Processing record 334 | tasiilaq\n",
      "Processing record 335 | vila franca do campo\n",
      "Processing record 336 | tzaneen\n",
      "Processing record 337 | berberati\n",
      "Processing record 338 | kaitangata\n",
      "Processing record 339 | rudnogorsk\n",
      "Processing record 340 | mahibadhoo\n",
      "Processing record 341 | lianran\n",
      "Processing record 342 | vanimo\n",
      "Processing record 343 | omboue\n",
      "Processing record 344 | iqaluit\n",
      "Processing record 345 | tanete\n",
      "Processing record 346 | mount isa\n",
      "Processing record 347 | horki\n",
      "Processing record 348 | vestmannaeyjar\n",
      "Processing record 349 | krutinka\n",
      "Processing record 350 | vestmanna\n",
      "Processing record 351 | sisimiut\n",
      "Processing record 352 | goderich\n",
      "Processing record 353 | alyangula\n",
      "Processing record 354 | kuandian\n",
      "Processing record 355 | ambositra\n",
      "Processing record 356 | ancud\n",
      "Processing record 357 | victor harbor\n",
      "Processing record 358 | magadan\n",
      "Processing record 359 | college\n",
      "Processing record 360 | poum\n",
      "Processing record 361 | korla\n",
      "Processing record 362 | phayao\n",
      "Processing record 363 | jerusalem\n",
      "rawannawi not found. Skipping...\n",
      "Processing record 364 | roald\n",
      "Processing record 365 | lima\n",
      "Processing record 366 | warmbad\n",
      "phan rang not found. Skipping...\n",
      "Processing record 367 | wattegama\n",
      "Processing record 368 | tezu\n",
      "Processing record 369 | upernavik\n",
      "Processing record 370 | upington\n",
      "Processing record 371 | faya\n",
      "Processing record 372 | esperance\n",
      "Processing record 373 | muisne\n",
      "Processing record 374 | sibolga\n",
      "Processing record 375 | susner\n",
      "Processing record 376 | sao felix do xingu\n",
      "Processing record 377 | itoman\n",
      "Processing record 378 | bure\n",
      "Processing record 379 | castelo\n",
      "Processing record 380 | san juan del sur\n",
      "Processing record 381 | novovasylivka\n",
      "Processing record 382 | zeya\n",
      "Processing record 383 | okhotsk\n",
      "Processing record 384 | prince rupert\n",
      "Processing record 385 | brae\n",
      "Processing record 386 | yulara\n",
      "Processing record 387 | latehar\n",
      "Processing record 388 | gayny\n",
      "Processing record 389 | hofn\n",
      "Processing record 390 | fussen\n",
      "Processing record 391 | bushehr\n",
      "karaul not found. Skipping...\n",
      "Processing record 392 | talnakh\n",
      "Processing record 393 | daru\n",
      "Processing record 394 | isangel\n",
      "Processing record 395 | pratapgarh\n",
      "Processing record 396 | mani\n",
      "Processing record 397 | ugoofaaru\n",
      "Processing record 398 | huarmey\n",
      "Processing record 399 | codrington\n",
      "Processing record 400 | ixil\n",
      "Processing record 401 | beloha\n",
      "Processing record 402 | laguna\n",
      "Processing record 403 | minyar\n",
      "Processing record 404 | road town\n",
      "Processing record 405 | lompoc\n",
      "Processing record 406 | warri\n",
      "Processing record 407 | joshimath\n",
      "Processing record 408 | sobolevo\n",
      "Processing record 409 | ankpa\n",
      "Processing record 410 | khani\n",
      "Processing record 411 | litovko\n",
      "Processing record 412 | kavaratti\n",
      "Processing record 413 | ilhabela\n",
      "Processing record 414 | plaisance-du-touch\n",
      "Processing record 415 | srednekolymsk\n",
      "Processing record 416 | lata\n",
      "Processing record 417 | puerto ayacucho\n",
      "karamay not found. Skipping...\n",
      "umzimvubu not found. Skipping...\n",
      "Processing record 418 | kodinsk\n",
      "Processing record 419 | cartagena\n",
      "Processing record 420 | moron\n",
      "Processing record 421 | hirara\n",
      "Processing record 422 | la asuncion\n",
      "Processing record 423 | nome\n",
      "Processing record 424 | ukiah\n",
      "sataua not found. Skipping...\n",
      "Processing record 425 | strezhevoy\n",
      "Processing record 426 | harper\n",
      "jabiru not found. Skipping...\n",
      "Processing record 427 | riyadh\n",
      "Processing record 428 | liwale\n",
      "Processing record 429 | beipiao\n",
      "Processing record 430 | serenje\n",
      "Processing record 431 | ampanihy\n",
      "Processing record 432 | tual\n",
      "Processing record 433 | pisco\n",
      "Processing record 434 | panama city\n",
      "Processing record 435 | chenzhou\n",
      "Processing record 436 | esmeraldas\n",
      "Processing record 437 | carballo\n",
      "Processing record 438 | henderson\n",
      "Processing record 439 | bata\n",
      "Processing record 440 | mnogovershinnyy\n",
      "Processing record 441 | bulgan\n",
      "tasbuget not found. Skipping...\n",
      "Processing record 442 | tuatapere\n",
      "Processing record 443 | shingu\n",
      "Processing record 444 | portland\n",
      "Processing record 445 | duekoue\n",
      "Processing record 446 | puerto baquerizo moreno\n",
      "Processing record 447 | leningradskiy\n",
      "Processing record 448 | port elizabeth\n",
      "Processing record 449 | viransehir\n",
      "Processing record 450 | sungaipenuh\n",
      "Processing record 451 | lenger\n",
      "Processing record 452 | fortuna\n",
      "Processing record 453 | artigas\n"
     ]
    },
    {
     "name": "stdout",
     "output_type": "stream",
     "text": [
      "Processing record 454 | karaidel\n",
      "Processing record 455 | imbituba\n",
      "Processing record 456 | flin flon\n",
      "Processing record 457 | milkovo\n",
      "Processing record 458 | burgos\n",
      "Processing record 459 | bowen\n",
      "Processing record 460 | wanning\n",
      "Processing record 461 | la ronge\n",
      "Processing record 462 | obo\n",
      "Processing record 463 | miles city\n",
      "Processing record 464 | nur\n",
      "Processing record 465 | joigny\n",
      "Processing record 466 | piedra gorda\n",
      "Processing record 467 | almaznyy\n",
      "Processing record 468 | kaeo\n",
      "Processing record 469 | haines junction\n",
      "Processing record 470 | stokke\n",
      "Processing record 471 | palmares do sul\n",
      "Processing record 472 | impfondo\n",
      "Processing record 473 | kaltenkirchen\n",
      "Processing record 474 | yuanping\n",
      "saleaula not found. Skipping...\n",
      "Processing record 475 | hun\n",
      "Processing record 476 | easton\n",
      "Processing record 477 | miedzychod\n",
      "Processing record 478 | port dickson\n",
      "Processing record 479 | port-gentil\n",
      "Processing record 480 | tignere\n",
      "Processing record 481 | tawang\n",
      "Processing record 482 | esfahan\n",
      "Processing record 483 | metro\n",
      "Processing record 484 | mwinilunga\n",
      "Processing record 485 | chornobayivka\n",
      "Processing record 486 | magnor\n",
      "Processing record 487 | huaraz\n",
      "Processing record 488 | riberalta\n",
      "Processing record 489 | cap-aux-meules\n",
      "Processing record 490 | lircay\n",
      "Processing record 491 | ayan\n",
      "Processing record 492 | amsterdam\n",
      "Processing record 493 | chabua\n",
      "Processing record 494 | bubaque\n",
      "Processing record 495 | iglesias\n",
      "andevoranto not found. Skipping...\n",
      "Processing record 496 | algiers\n",
      "Processing record 497 | tigil\n",
      "Processing record 498 | venancio aires\n",
      "Processing record 499 | rochegda\n",
      "Processing record 500 | mbanza-ngungu\n",
      "Processing record 501 | araguaina\n",
      "Processing record 502 | dalbandin\n",
      "Processing record 503 | marshfield\n",
      "Processing record 504 | mbini\n",
      "Processing record 505 | sabratah\n",
      "Processing record 506 | cururupu\n",
      "Processing record 507 | jabalpur\n",
      "Processing record 508 | sao geraldo do araguaia\n",
      "Processing record 509 | buraydah\n",
      "louisbourg not found. Skipping...\n",
      "Processing record 510 | nioro\n",
      "Processing record 511 | svetlogorsk\n",
      "Processing record 512 | benguela\n",
      "Processing record 513 | touros\n",
      "tumannyy not found. Skipping...\n",
      "Processing record 514 | rawson\n",
      "Processing record 515 | harnosand\n",
      "Processing record 516 | saint-doulchard\n",
      "mrirt not found. Skipping...\n",
      "Processing record 517 | darfo\n",
      "Processing record 518 | clinton\n",
      "Processing record 519 | bereda\n",
      "Processing record 520 | naklo nad notecia\n",
      "Processing record 521 | tartus\n",
      "Processing record 522 | forio\n",
      "Processing record 523 | ambilobe\n",
      "Processing record 524 | sabang\n",
      "Processing record 525 | shakawe\n",
      "Processing record 526 | jalu\n",
      "Processing record 527 | kuznechnoye\n",
      "Processing record 528 | litovel\n",
      "Processing record 529 | hukuntsi\n",
      "Processing record 530 | kiama\n",
      "Processing record 531 | sorland\n",
      "Processing record 532 | antofagasta\n",
      "Processing record 533 | vao\n",
      "Processing record 534 | havoysund\n",
      "Processing record 535 | belmonte\n",
      "Processing record 536 | arlit\n",
      "Processing record 537 | aksu\n",
      "Processing record 538 | ballarat\n",
      "Processing record 539 | pangnirtung\n",
      "Processing record 540 | tapes\n",
      "ijaki not found. Skipping...\n",
      "Processing record 541 | presidencia roque saenz pena\n",
      "lolua not found. Skipping...\n",
      "Processing record 542 | tungor\n",
      "Processing record 543 | catia la mar\n",
      "Processing record 544 | bani\n",
      "Processing record 545 | tvoroyri\n",
      "Processing record 546 | dubti\n",
      "Processing record 547 | batagay\n",
      "Processing record 548 | burnie\n",
      "Processing record 549 | awbari\n",
      "Processing record 550 | mgandu\n",
      "Processing record 551 | birin\n",
      "Processing record 552 | alofi\n",
      "Processing record 553 | nan\n",
      "Processing record 554 | abashiri\n",
      "Processing record 555 | behbahan\n",
      "Processing record 556 | aksum\n",
      "Processing record 557 | jennings\n",
      "Processing record 558 | volosovo\n",
      "Processing record 559 | manono\n",
      "Processing record 560 | wad rawah\n",
      "Processing record 561 | valentin gomez farias\n",
      "Processing record 562 | penzance\n",
      "Processing record 563 | arinos\n",
      "Processing record 564 | zherdevka\n",
      "Processing record 565 | nabire\n",
      "Processing record 566 | ibipora\n",
      "Processing record 567 | emba\n",
      "Processing record 568 | bayanday\n",
      "Processing record 569 | hobyo\n",
      "Processing record 570 | kudahuvadhoo\n",
      "Processing record 571 | charagua\n",
      "Processing record 572 | pangody\n",
      "Processing record 573 | warren\n",
      "karamea not found. Skipping...\n",
      "Processing record 574 | baruun-urt\n",
      "Processing record 575 | port hedland\n",
      "49 cities were not found...\n"
     ]
    }
   ],
   "source": [
    "found_cities = []\n",
    "temps = []\n",
    "lats = []\n",
    "lons = []\n",
    "hums = []\n",
    "clouds = []\n",
    "wnd_speed = []\n",
    "country = []\n",
    "date = []\n",
    "count = 0\n",
    "notFound = 0\n",
    "\n",
    "# test_cities = [cities[0],cities[1],cities[2],cities[3],cities[4],cities[5]]\n",
    "\n",
    "print(\"Beginning Data Retrieval...\")\n",
    "print(\"------------------------------\")\n",
    "\n",
    "for city in cities:\n",
    "\n",
    "    try:\n",
    "\n",
    "        response = requests.get(query_url + city).json()\n",
    "        temps.append(response['main']['temp_max'])\n",
    "        hums.append(response['main']['humidity'])\n",
    "        lats.append(response['coord']['lat'])\n",
    "        lons.append(response['coord']['lon'])\n",
    "        clouds.append(response['clouds']['all'])\n",
    "        wnd_speed.append(response['wind']['speed'])\n",
    "        country.append(response['sys']['country'])\n",
    "        date.append(response['dt'])\n",
    "        found_cities.append(city)\n",
    "\n",
    "        print(f\"Processing record {count} | {city}\")\n",
    "        count = count + 1\n",
    "        \n",
    "    except:\n",
    "        print(f\"{city} not found. Skipping...\")\n",
    "        notFound = notFound + 1\n",
    "            \n",
    "print(f\"{notFound} cities were not found...\")"
   ]
  },
  {
   "cell_type": "markdown",
   "metadata": {},
   "source": [
    "### Convert Raw Data to DataFrame\n",
    "* Export the city data into a .csv.\n",
    "* Display the DataFrame"
   ]
  },
  {
   "cell_type": "code",
   "execution_count": 6,
   "metadata": {},
   "outputs": [
    {
     "name": "stdout",
     "output_type": "stream",
     "text": [
      "Cities :  576\n",
      "Lat : 576\n",
      "Lon : 576\n",
      "Max Temp : 576\n",
      "Humidity : 576\n",
      "Wind Speed : 576\n",
      "Cloudiness : 576\n",
      "Country : 576\n",
      "Date : 576\n"
     ]
    }
   ],
   "source": [
    "print(f\"Cities :  {len(found_cities)}\")\n",
    "print(f\"Lat : {len(lats)}\")\n",
    "print(f\"Lon : {len(lons)}\")\n",
    "print(f\"Max Temp : {len(temps)}\")\n",
    "print(f\"Humidity : {len(hums)}\")\n",
    "print(f\"Wind Speed : {len(wnd_speed)}\")\n",
    "print(f\"Cloudiness : {len(clouds)}\")\n",
    "print(f\"Country : {len(country)}\")\n",
    "print(f\"Date : {len(date)}\")            "
   ]
  },
  {
   "cell_type": "code",
   "execution_count": 7,
   "metadata": {},
   "outputs": [
    {
     "data": {
      "text/html": [
       "<div>\n",
       "<style scoped>\n",
       "    .dataframe tbody tr th:only-of-type {\n",
       "        vertical-align: middle;\n",
       "    }\n",
       "\n",
       "    .dataframe tbody tr th {\n",
       "        vertical-align: top;\n",
       "    }\n",
       "\n",
       "    .dataframe thead th {\n",
       "        text-align: right;\n",
       "    }\n",
       "</style>\n",
       "<table border=\"1\" class=\"dataframe\">\n",
       "  <thead>\n",
       "    <tr style=\"text-align: right;\">\n",
       "      <th></th>\n",
       "      <th>City</th>\n",
       "      <th>Lat</th>\n",
       "      <th>Lng</th>\n",
       "      <th>Max Temp</th>\n",
       "      <th>Humidity</th>\n",
       "      <th>Cloudiness</th>\n",
       "      <th>Wind Speed</th>\n",
       "      <th>Country</th>\n",
       "      <th>Date</th>\n",
       "    </tr>\n",
       "  </thead>\n",
       "  <tbody>\n",
       "    <tr>\n",
       "      <th>0</th>\n",
       "      <td>longyearbyen</td>\n",
       "      <td>78.2186</td>\n",
       "      <td>15.6401</td>\n",
       "      <td>10.91</td>\n",
       "      <td>71</td>\n",
       "      <td>75</td>\n",
       "      <td>6.17</td>\n",
       "      <td>SJ</td>\n",
       "      <td>1658933958</td>\n",
       "    </tr>\n",
       "    <tr>\n",
       "      <th>1</th>\n",
       "      <td>borogontsy</td>\n",
       "      <td>62.6683</td>\n",
       "      <td>131.1683</td>\n",
       "      <td>19.99</td>\n",
       "      <td>71</td>\n",
       "      <td>22</td>\n",
       "      <td>1.28</td>\n",
       "      <td>RU</td>\n",
       "      <td>1658933958</td>\n",
       "    </tr>\n",
       "    <tr>\n",
       "      <th>2</th>\n",
       "      <td>mokhsogollokh</td>\n",
       "      <td>61.4681</td>\n",
       "      <td>128.9203</td>\n",
       "      <td>18.21</td>\n",
       "      <td>71</td>\n",
       "      <td>7</td>\n",
       "      <td>0.54</td>\n",
       "      <td>RU</td>\n",
       "      <td>1658933959</td>\n",
       "    </tr>\n",
       "    <tr>\n",
       "      <th>3</th>\n",
       "      <td>sabzevar</td>\n",
       "      <td>36.2126</td>\n",
       "      <td>57.6819</td>\n",
       "      <td>37.60</td>\n",
       "      <td>17</td>\n",
       "      <td>0</td>\n",
       "      <td>7.20</td>\n",
       "      <td>IR</td>\n",
       "      <td>1658933959</td>\n",
       "    </tr>\n",
       "    <tr>\n",
       "      <th>4</th>\n",
       "      <td>grand gaube</td>\n",
       "      <td>-20.0064</td>\n",
       "      <td>57.6608</td>\n",
       "      <td>22.22</td>\n",
       "      <td>76</td>\n",
       "      <td>3</td>\n",
       "      <td>2.68</td>\n",
       "      <td>MU</td>\n",
       "      <td>1658933959</td>\n",
       "    </tr>\n",
       "    <tr>\n",
       "      <th>...</th>\n",
       "      <td>...</td>\n",
       "      <td>...</td>\n",
       "      <td>...</td>\n",
       "      <td>...</td>\n",
       "      <td>...</td>\n",
       "      <td>...</td>\n",
       "      <td>...</td>\n",
       "      <td>...</td>\n",
       "      <td>...</td>\n",
       "    </tr>\n",
       "    <tr>\n",
       "      <th>571</th>\n",
       "      <td>charagua</td>\n",
       "      <td>-19.8000</td>\n",
       "      <td>-63.2167</td>\n",
       "      <td>28.09</td>\n",
       "      <td>42</td>\n",
       "      <td>6</td>\n",
       "      <td>6.56</td>\n",
       "      <td>BO</td>\n",
       "      <td>1658934201</td>\n",
       "    </tr>\n",
       "    <tr>\n",
       "      <th>572</th>\n",
       "      <td>pangody</td>\n",
       "      <td>65.8500</td>\n",
       "      <td>74.4859</td>\n",
       "      <td>12.95</td>\n",
       "      <td>63</td>\n",
       "      <td>41</td>\n",
       "      <td>3.56</td>\n",
       "      <td>RU</td>\n",
       "      <td>1658934202</td>\n",
       "    </tr>\n",
       "    <tr>\n",
       "      <th>573</th>\n",
       "      <td>warren</td>\n",
       "      <td>39.4334</td>\n",
       "      <td>-84.1666</td>\n",
       "      <td>22.62</td>\n",
       "      <td>85</td>\n",
       "      <td>100</td>\n",
       "      <td>5.14</td>\n",
       "      <td>US</td>\n",
       "      <td>1658934202</td>\n",
       "    </tr>\n",
       "    <tr>\n",
       "      <th>574</th>\n",
       "      <td>baruun-urt</td>\n",
       "      <td>46.6806</td>\n",
       "      <td>113.2792</td>\n",
       "      <td>13.70</td>\n",
       "      <td>72</td>\n",
       "      <td>26</td>\n",
       "      <td>4.49</td>\n",
       "      <td>MN</td>\n",
       "      <td>1658934202</td>\n",
       "    </tr>\n",
       "    <tr>\n",
       "      <th>575</th>\n",
       "      <td>port hedland</td>\n",
       "      <td>-20.3167</td>\n",
       "      <td>118.5667</td>\n",
       "      <td>17.03</td>\n",
       "      <td>67</td>\n",
       "      <td>3</td>\n",
       "      <td>2.57</td>\n",
       "      <td>AU</td>\n",
       "      <td>1658934203</td>\n",
       "    </tr>\n",
       "  </tbody>\n",
       "</table>\n",
       "<p>576 rows × 9 columns</p>\n",
       "</div>"
      ],
      "text/plain": [
       "              City      Lat       Lng  Max Temp  Humidity  Cloudiness  \\\n",
       "0     longyearbyen  78.2186   15.6401     10.91        71          75   \n",
       "1       borogontsy  62.6683  131.1683     19.99        71          22   \n",
       "2    mokhsogollokh  61.4681  128.9203     18.21        71           7   \n",
       "3         sabzevar  36.2126   57.6819     37.60        17           0   \n",
       "4      grand gaube -20.0064   57.6608     22.22        76           3   \n",
       "..             ...      ...       ...       ...       ...         ...   \n",
       "571       charagua -19.8000  -63.2167     28.09        42           6   \n",
       "572        pangody  65.8500   74.4859     12.95        63          41   \n",
       "573         warren  39.4334  -84.1666     22.62        85         100   \n",
       "574     baruun-urt  46.6806  113.2792     13.70        72          26   \n",
       "575   port hedland -20.3167  118.5667     17.03        67           3   \n",
       "\n",
       "     Wind Speed Country        Date  \n",
       "0          6.17      SJ  1658933958  \n",
       "1          1.28      RU  1658933958  \n",
       "2          0.54      RU  1658933959  \n",
       "3          7.20      IR  1658933959  \n",
       "4          2.68      MU  1658933959  \n",
       "..          ...     ...         ...  \n",
       "571        6.56      BO  1658934201  \n",
       "572        3.56      RU  1658934202  \n",
       "573        5.14      US  1658934202  \n",
       "574        4.49      MN  1658934202  \n",
       "575        2.57      AU  1658934203  \n",
       "\n",
       "[576 rows x 9 columns]"
      ]
     },
     "execution_count": 7,
     "metadata": {},
     "output_type": "execute_result"
    }
   ],
   "source": [
    "# create a data frame from cities, lat, and temp\n",
    "weather_dict = {\n",
    "    \"City\": found_cities,\n",
    "    \"Lat\": lats,\n",
    "    \"Lng\": lons,\n",
    "    \"Max Temp\": temps,\n",
    "    \"Humidity\": hums,\n",
    "    \"Cloudiness\": clouds,\n",
    "    \"Wind Speed\": wnd_speed,\n",
    "    \"Country\": country,\n",
    "    \"Date\": date\n",
    "}\n",
    "weather_data = pd.DataFrame(weather_dict)\n",
    "weather_data"
   ]
  },
  {
   "cell_type": "code",
   "execution_count": 8,
   "metadata": {},
   "outputs": [],
   "source": [
    "# export DataFrame to CSV file\n",
    "weather_data.to_csv(\"../output/weather.csv\")"
   ]
  },
  {
   "cell_type": "code",
   "execution_count": 9,
   "metadata": {},
   "outputs": [
    {
     "data": {
      "text/html": [
       "<div>\n",
       "<style scoped>\n",
       "    .dataframe tbody tr th:only-of-type {\n",
       "        vertical-align: middle;\n",
       "    }\n",
       "\n",
       "    .dataframe tbody tr th {\n",
       "        vertical-align: top;\n",
       "    }\n",
       "\n",
       "    .dataframe thead th {\n",
       "        text-align: right;\n",
       "    }\n",
       "</style>\n",
       "<table border=\"1\" class=\"dataframe\">\n",
       "  <thead>\n",
       "    <tr style=\"text-align: right;\">\n",
       "      <th></th>\n",
       "      <th>Lat</th>\n",
       "      <th>Lng</th>\n",
       "      <th>Max Temp</th>\n",
       "      <th>Humidity</th>\n",
       "      <th>Cloudiness</th>\n",
       "      <th>Wind Speed</th>\n",
       "      <th>Date</th>\n",
       "    </tr>\n",
       "  </thead>\n",
       "  <tbody>\n",
       "    <tr>\n",
       "      <th>count</th>\n",
       "      <td>576.000000</td>\n",
       "      <td>576.000000</td>\n",
       "      <td>576.000000</td>\n",
       "      <td>576.000000</td>\n",
       "      <td>576.000000</td>\n",
       "      <td>576.000000</td>\n",
       "      <td>5.760000e+02</td>\n",
       "    </tr>\n",
       "    <tr>\n",
       "      <th>mean</th>\n",
       "      <td>19.324495</td>\n",
       "      <td>21.498365</td>\n",
       "      <td>21.850955</td>\n",
       "      <td>68.586806</td>\n",
       "      <td>56.548611</td>\n",
       "      <td>3.485174</td>\n",
       "      <td>1.658934e+09</td>\n",
       "    </tr>\n",
       "    <tr>\n",
       "      <th>std</th>\n",
       "      <td>33.446256</td>\n",
       "      <td>87.893244</td>\n",
       "      <td>8.080189</td>\n",
       "      <td>23.032365</td>\n",
       "      <td>38.641870</td>\n",
       "      <td>2.298156</td>\n",
       "      <td>9.490334e+01</td>\n",
       "    </tr>\n",
       "    <tr>\n",
       "      <th>min</th>\n",
       "      <td>-54.800000</td>\n",
       "      <td>-175.200000</td>\n",
       "      <td>0.570000</td>\n",
       "      <td>5.000000</td>\n",
       "      <td>0.000000</td>\n",
       "      <td>0.000000</td>\n",
       "      <td>1.658934e+09</td>\n",
       "    </tr>\n",
       "    <tr>\n",
       "      <th>max</th>\n",
       "      <td>78.218600</td>\n",
       "      <td>179.316700</td>\n",
       "      <td>44.540000</td>\n",
       "      <td>100.000000</td>\n",
       "      <td>100.000000</td>\n",
       "      <td>14.220000</td>\n",
       "      <td>1.658934e+09</td>\n",
       "    </tr>\n",
       "    <tr>\n",
       "      <th>25%</th>\n",
       "      <td>-9.283325</td>\n",
       "      <td>-53.706850</td>\n",
       "      <td>16.532500</td>\n",
       "      <td>58.000000</td>\n",
       "      <td>14.000000</td>\n",
       "      <td>1.710000</td>\n",
       "      <td>1.658934e+09</td>\n",
       "    </tr>\n",
       "    <tr>\n",
       "      <th>50%</th>\n",
       "      <td>22.244000</td>\n",
       "      <td>25.710050</td>\n",
       "      <td>23.010000</td>\n",
       "      <td>74.000000</td>\n",
       "      <td>65.000000</td>\n",
       "      <td>2.980000</td>\n",
       "      <td>1.658934e+09</td>\n",
       "    </tr>\n",
       "    <tr>\n",
       "      <th>75%</th>\n",
       "      <td>47.988575</td>\n",
       "      <td>100.271350</td>\n",
       "      <td>27.192500</td>\n",
       "      <td>86.000000</td>\n",
       "      <td>97.000000</td>\n",
       "      <td>4.945000</td>\n",
       "      <td>1.658934e+09</td>\n",
       "    </tr>\n",
       "  </tbody>\n",
       "</table>\n",
       "</div>"
      ],
      "text/plain": [
       "              Lat         Lng    Max Temp    Humidity  Cloudiness  Wind Speed  \\\n",
       "count  576.000000  576.000000  576.000000  576.000000  576.000000  576.000000   \n",
       "mean    19.324495   21.498365   21.850955   68.586806   56.548611    3.485174   \n",
       "std     33.446256   87.893244    8.080189   23.032365   38.641870    2.298156   \n",
       "min    -54.800000 -175.200000    0.570000    5.000000    0.000000    0.000000   \n",
       "max     78.218600  179.316700   44.540000  100.000000  100.000000   14.220000   \n",
       "25%     -9.283325  -53.706850   16.532500   58.000000   14.000000    1.710000   \n",
       "50%     22.244000   25.710050   23.010000   74.000000   65.000000    2.980000   \n",
       "75%     47.988575  100.271350   27.192500   86.000000   97.000000    4.945000   \n",
       "\n",
       "               Date  \n",
       "count  5.760000e+02  \n",
       "mean   1.658934e+09  \n",
       "std    9.490334e+01  \n",
       "min    1.658934e+09  \n",
       "max    1.658934e+09  \n",
       "25%    1.658934e+09  \n",
       "50%    1.658934e+09  \n",
       "75%    1.658934e+09  "
      ]
     },
     "execution_count": 9,
     "metadata": {},
     "output_type": "execute_result"
    }
   ],
   "source": [
    "num_data = weather_data[['Lat', 'Lng', 'Max Temp', 'Humidity', 'Cloudiness', 'Wind Speed','Date']]\n",
    "agg_df = num_data.agg(['count','mean','std','min','max'])\n",
    "quantiles_df = num_data.quantile([.25,.5,.75])\n",
    "agg_df = pd.concat([agg_df, quantiles_df], axis=0)\n",
    "agg_df = agg_df.rename(index={\n",
    "    0.25: '25%',\n",
    "    0.5: '50%',\n",
    "    0.75: '75%',  \n",
    "                    })\n",
    "agg_df"
   ]
  },
  {
   "cell_type": "markdown",
   "metadata": {},
   "source": [
    "## Inspect the data and remove the cities where the humidity > 100%.\n",
    "----\n",
    "Skip this step if there are no cities that have humidity > 100%. "
   ]
  },
  {
   "cell_type": "code",
   "execution_count": 10,
   "metadata": {},
   "outputs": [
    {
     "data": {
      "text/html": [
       "<div>\n",
       "<style scoped>\n",
       "    .dataframe tbody tr th:only-of-type {\n",
       "        vertical-align: middle;\n",
       "    }\n",
       "\n",
       "    .dataframe tbody tr th {\n",
       "        vertical-align: top;\n",
       "    }\n",
       "\n",
       "    .dataframe thead th {\n",
       "        text-align: right;\n",
       "    }\n",
       "</style>\n",
       "<table border=\"1\" class=\"dataframe\">\n",
       "  <thead>\n",
       "    <tr style=\"text-align: right;\">\n",
       "      <th></th>\n",
       "      <th>City</th>\n",
       "      <th>Lat</th>\n",
       "      <th>Lng</th>\n",
       "      <th>Max Temp</th>\n",
       "      <th>Humidity</th>\n",
       "      <th>Cloudiness</th>\n",
       "      <th>Wind Speed</th>\n",
       "      <th>Country</th>\n",
       "      <th>Date</th>\n",
       "    </tr>\n",
       "  </thead>\n",
       "  <tbody>\n",
       "    <tr>\n",
       "      <th>0</th>\n",
       "      <td>longyearbyen</td>\n",
       "      <td>78.2186</td>\n",
       "      <td>15.6401</td>\n",
       "      <td>10.91</td>\n",
       "      <td>71</td>\n",
       "      <td>75</td>\n",
       "      <td>6.17</td>\n",
       "      <td>SJ</td>\n",
       "      <td>1658933958</td>\n",
       "    </tr>\n",
       "    <tr>\n",
       "      <th>1</th>\n",
       "      <td>borogontsy</td>\n",
       "      <td>62.6683</td>\n",
       "      <td>131.1683</td>\n",
       "      <td>19.99</td>\n",
       "      <td>71</td>\n",
       "      <td>22</td>\n",
       "      <td>1.28</td>\n",
       "      <td>RU</td>\n",
       "      <td>1658933958</td>\n",
       "    </tr>\n",
       "    <tr>\n",
       "      <th>2</th>\n",
       "      <td>mokhsogollokh</td>\n",
       "      <td>61.4681</td>\n",
       "      <td>128.9203</td>\n",
       "      <td>18.21</td>\n",
       "      <td>71</td>\n",
       "      <td>7</td>\n",
       "      <td>0.54</td>\n",
       "      <td>RU</td>\n",
       "      <td>1658933959</td>\n",
       "    </tr>\n",
       "    <tr>\n",
       "      <th>3</th>\n",
       "      <td>sabzevar</td>\n",
       "      <td>36.2126</td>\n",
       "      <td>57.6819</td>\n",
       "      <td>37.60</td>\n",
       "      <td>17</td>\n",
       "      <td>0</td>\n",
       "      <td>7.20</td>\n",
       "      <td>IR</td>\n",
       "      <td>1658933959</td>\n",
       "    </tr>\n",
       "    <tr>\n",
       "      <th>4</th>\n",
       "      <td>grand gaube</td>\n",
       "      <td>-20.0064</td>\n",
       "      <td>57.6608</td>\n",
       "      <td>22.22</td>\n",
       "      <td>76</td>\n",
       "      <td>3</td>\n",
       "      <td>2.68</td>\n",
       "      <td>MU</td>\n",
       "      <td>1658933959</td>\n",
       "    </tr>\n",
       "  </tbody>\n",
       "</table>\n",
       "</div>"
      ],
      "text/plain": [
       "            City      Lat       Lng  Max Temp  Humidity  Cloudiness  \\\n",
       "0   longyearbyen  78.2186   15.6401     10.91        71          75   \n",
       "1     borogontsy  62.6683  131.1683     19.99        71          22   \n",
       "2  mokhsogollokh  61.4681  128.9203     18.21        71           7   \n",
       "3       sabzevar  36.2126   57.6819     37.60        17           0   \n",
       "4    grand gaube -20.0064   57.6608     22.22        76           3   \n",
       "\n",
       "   Wind Speed Country        Date  \n",
       "0        6.17      SJ  1658933958  \n",
       "1        1.28      RU  1658933958  \n",
       "2        0.54      RU  1658933959  \n",
       "3        7.20      IR  1658933959  \n",
       "4        2.68      MU  1658933959  "
      ]
     },
     "execution_count": 10,
     "metadata": {},
     "output_type": "execute_result"
    }
   ],
   "source": [
    "sorted_cities = weather_data[weather_data['Humidity'] <= 100]\n",
    "sorted_cities.head()"
   ]
  },
  {
   "cell_type": "markdown",
   "metadata": {},
   "source": [
    "## Plotting the Data\n",
    "* Use proper labeling of the plots using plot titles (including date of analysis) and axes labels.\n",
    "* Save the plotted figures as .pngs."
   ]
  },
  {
   "cell_type": "markdown",
   "metadata": {},
   "source": [
    "## Latitude vs. Temperature Plot"
   ]
  },
  {
   "cell_type": "code",
   "execution_count": 12,
   "metadata": {},
   "outputs": [
    {
     "data": {
      "image/png": "[encoded data removed]",
      "text/plain": [
       "<Figure size 432x288 with 1 Axes>"
      ]
     },
     "metadata": {
      "needs_background": "light"
     },
     "output_type": "display_data"
    }
   ],
   "source": [
    "ax1 = sorted_cities.plot.scatter(x='Lat',\n",
    "...                       y='Max Temp',\n",
    "...                       c='DarkBlue',\n",
    "                                )\n",
    "ax1.grid()\n",
    "plt.savefig('../output/latVsTemp.png')"
   ]
  },
  {
   "cell_type": "markdown",
   "metadata": {},
   "source": [
    "## Latitude vs. Humidity Plot"
   ]
  },
  {
   "cell_type": "code",
   "execution_count": 13,
   "metadata": {},
   "outputs": [
    {
     "data": {
      "image/png": "[encoded data removed]",
      "text/plain": [
       "<Figure size 432x288 with 1 Axes>"
      ]
     },
     "metadata": {
      "needs_background": "light"
     },
     "output_type": "display_data"
    }
   ],
   "source": [
    "ax1 = sorted_cities.plot.scatter(x='Lat',\n",
    "...                       y='Humidity',\n",
    "...                       c='DarkBlue',\n",
    "                                )\n",
    "ax1.grid()\n",
    "plt.savefig('../output/latVsHum.png')"
   ]
  },
  {
   "cell_type": "markdown",
   "metadata": {},
   "source": [
    "## Latitude vs. Cloudiness Plot"
   ]
  },
  {
   "cell_type": "code",
   "execution_count": 14,
   "metadata": {},
   "outputs": [
    {
     "data": {
      "image/png": "[encoded data removed]",
      "text/plain": [
       "<Figure size 432x288 with 1 Axes>"
      ]
     },
     "metadata": {
      "needs_background": "light"
     },
     "output_type": "display_data"
    }
   ],
   "source": [
    "ax1 = sorted_cities.plot.scatter(x='Lat',\n",
    "...                       y='Cloudiness',\n",
    "...                       c='DarkBlue',\n",
    "                                )\n",
    "ax1.grid()\n",
    "plt.savefig('../output/latVsCloud.png')"
   ]
  },
  {
   "cell_type": "markdown",
   "metadata": {},
   "source": [
    "## Latitude vs. Wind Speed Plot"
   ]
  },
  {
   "cell_type": "code",
   "execution_count": 15,
   "metadata": {},
   "outputs": [
    {
     "data": {
      "image/png": "[encoded data removed]",
      "text/plain": [
       "<Figure size 432x288 with 1 Axes>"
      ]
     },
     "metadata": {
      "needs_background": "light"
     },
     "output_type": "display_data"
    }
   ],
   "source": [
    "ax1 = sorted_cities.plot.scatter(x='Lat',\n",
    "...                       y='Wind Speed',\n",
    "...                       c='DarkBlue',\n",
    "                                )\n",
    "ax1.grid()\n",
    "plt.savefig('../output/latVsWind.png')"
   ]
  },
  {
   "cell_type": "markdown",
   "metadata": {},
   "source": [
    "## Linear Regression"
   ]
  },
  {
   "cell_type": "code",
   "execution_count": 16,
   "metadata": {},
   "outputs": [],
   "source": [
    "# This time, separate the plots into Northern Hemisphere (greater than or equal to 0 degrees latitude) \n",
    "# and Southern Hemisphere (less than 0 degrees latitude):\n",
    "north_cities = sorted_cities[sorted_cities['Lat'] >= 0]\n",
    "south_cities = sorted_cities[sorted_cities['Lat'] < 0 ]"
   ]
  },
  {
   "cell_type": "markdown",
   "metadata": {},
   "source": [
    "####  Northern Hemisphere - Max Temp vs. Latitude Linear Regression"
   ]
  },
  {
   "cell_type": "code",
   "execution_count": 17,
   "metadata": {},
   "outputs": [
    {
     "name": "stdout",
     "output_type": "stream",
     "text": [
      "The r-value is: -0.6475915403303163\n"
     ]
    },
    {
     "data": {
      "image/png": "[encoded data removed]",
      "text/plain": [
       "<Figure size 432x288 with 1 Axes>"
      ]
     },
     "metadata": {
      "needs_background": "light"
     },
     "output_type": "display_data"
    }
   ],
   "source": [
    "ax1 = north_cities.plot.scatter(x='Lat',\n",
    "...                       y='Max Temp',\n",
    "...                       c='DarkBlue',\n",
    "                                )\n",
    "(slope, intercept, rvalue, pvalue, stderr) = linregress(north_cities['Lat'], north_cities['Max Temp'])\n",
    "line_eq = \"y = \" + str(round(slope,2)) + \"x + \" + str(round(intercept,2))\n",
    "print(f\"The r-value is: {rvalue}\")\n",
    "regress_values = north_cities['Lat'] * slope + intercept\n",
    "ax1.plot(north_cities['Lat'],regress_values,\"r-\")\n",
    "ax1.grid()\n",
    "\n",
    "ax1.annotate(line_eq,(5.8,0.8),fontsize=15,color=\"red\")\n",
    "plt.savefig('../output/NorthlatVsMaxTemp.png')"
   ]
  },
  {
   "cell_type": "markdown",
   "metadata": {},
   "source": [
    "####  Southern Hemisphere - Max Temp vs. Latitude Linear Regression"
   ]
  },
  {
   "cell_type": "code",
   "execution_count": 18,
   "metadata": {},
   "outputs": [
    {
     "name": "stdout",
     "output_type": "stream",
     "text": [
      "The r-value is: 0.7210834644171086\n"
     ]
    },
    {
     "data": {
      "image/png": "[encoded data removed]",
      "text/plain": [
       "<Figure size 432x288 with 1 Axes>"
      ]
     },
     "metadata": {
      "needs_background": "light"
     },
     "output_type": "display_data"
    }
   ],
   "source": [
    "ax1 = south_cities.plot.scatter(x='Lat',\n",
    "...                       y='Max Temp',\n",
    "...                       c='DarkBlue',\n",
    "                                )\n",
    "(slope, intercept, rvalue, pvalue, stderr) = linregress(south_cities['Lat'], south_cities['Max Temp'])\n",
    "line_eq = \"y = \" + str(round(slope,2)) + \"x + \" + str(round(intercept,2))\n",
    "print(f\"The r-value is: {rvalue}\")\n",
    "regress_values = south_cities['Lat'] * slope + intercept\n",
    "ax1.plot(south_cities['Lat'],regress_values,\"r-\")\n",
    "ax1.grid()\n",
    "ax1.annotate(line_eq,(-50.8,0.8),fontsize=15,color=\"red\")\n",
    "plt.savefig('../output/SouthlatVsMaxTemp.png')"
   ]
  },
  {
   "cell_type": "markdown",
   "metadata": {},
   "source": [
    "####  Northern Hemisphere - Humidity (%) vs. Latitude Linear Regression"
   ]
  },
  {
   "cell_type": "code",
   "execution_count": 19,
   "metadata": {},
   "outputs": [
    {
     "name": "stdout",
     "output_type": "stream",
     "text": [
      "The r-value is: 0.06387490526307163\n"
     ]
    },
    {
     "data": {
      "image/png": "[encoded data removed]",
      "text/plain": [
       "<Figure size 432x288 with 1 Axes>"
      ]
     },
     "metadata": {
      "needs_background": "light"
     },
     "output_type": "display_data"
    }
   ],
   "source": [
    "\n",
    "ax1 = north_cities.plot.scatter(x='Lat',\n",
    "...                       y='Humidity',\n",
    "...                       c='DarkBlue',\n",
    "                                )\n",
    "(slope, intercept, rvalue, pvalue, stderr) = linregress(north_cities['Lat'], north_cities['Humidity'])\n",
    "print(f\"The r-value is: {rvalue}\")\n",
    "regress_values = north_cities['Lat'] * slope + intercept\n",
    "ax1.plot(north_cities['Lat'],regress_values,\"r-\")\n",
    "ax1.grid()\n",
    "line_eq = \"y = \" + str(round(slope,2)) + \"x + \" + str(round(intercept,2))\n",
    "ax1.annotate(line_eq,(5.8,0.8),fontsize=15,color=\"red\")\n",
    "plt.savefig('../output/NorthlatVsHum.png')"
   ]
  },
  {
   "cell_type": "markdown",
   "metadata": {},
   "source": [
    "####  Southern Hemisphere - Humidity (%) vs. Latitude Linear Regression"
   ]
  },
  {
   "cell_type": "code",
   "execution_count": 20,
   "metadata": {},
   "outputs": [
    {
     "name": "stdout",
     "output_type": "stream",
     "text": [
      "The r-value is: -0.19513844427915186\n"
     ]
    },
    {
     "data": {
      "image/png": "[encoded data removed]",
      "text/plain": [
       "<Figure size 432x288 with 1 Axes>"
      ]
     },
     "metadata": {
      "needs_background": "light"
     },
     "output_type": "display_data"
    }
   ],
   "source": [
    "ax1 = south_cities.plot.scatter(x='Lat',\n",
    "...                       y='Humidity',\n",
    "...                       c='DarkBlue',\n",
    "                                )\n",
    "(slope, intercept, rvalue, pvalue, stderr) = linregress(south_cities['Lat'], south_cities['Humidity'])\n",
    "print(f\"The r-value is: {rvalue}\")\n",
    "regress_values = south_cities['Lat'] * slope + intercept\n",
    "ax1.plot(south_cities['Lat'],regress_values,\"r-\")\n",
    "ax1.grid()\n",
    "line_eq = \"y = \" + str(round(slope,2)) + \"x + \" + str(round(intercept,2))\n",
    "ax1.annotate(line_eq,(-25,20),fontsize=15,color=\"red\")\n",
    "plt.savefig('../output/SouthlatVsHum.png')"
   ]
  },
  {
   "cell_type": "markdown",
   "metadata": {},
   "source": [
    "####  Northern Hemisphere - Cloudiness (%) vs. Latitude Linear Regression"
   ]
  },
  {
   "cell_type": "code",
   "execution_count": 21,
   "metadata": {},
   "outputs": [
    {
     "name": "stdout",
     "output_type": "stream",
     "text": [
      "The r-value is: 0.06272368794307968\n"
     ]
    },
    {
     "data": {
      "image/png": "[encoded data removed]",
      "text/plain": [
       "<Figure size 432x288 with 1 Axes>"
      ]
     },
     "metadata": {
      "needs_background": "light"
     },
     "output_type": "display_data"
    }
   ],
   "source": [
    "ax1 = north_cities.plot.scatter(x='Lat',\n",
    "...                       y='Cloudiness',\n",
    "...                       c='DarkBlue',\n",
    "                                )\n",
    "(slope, intercept, rvalue, pvalue, stderr) = linregress(north_cities['Lat'], north_cities['Cloudiness'])\n",
    "print(f\"The r-value is: {rvalue}\")\n",
    "regress_values = north_cities['Lat'] * slope + intercept\n",
    "ax1.plot(north_cities['Lat'],regress_values,\"r-\")\n",
    "ax1.grid()\n",
    "line_eq = \"y = \" + str(round(slope,2)) + \"x + \" + str(round(intercept,2))\n",
    "ax1.annotate(line_eq,(7,5.8),fontsize=15,color=\"red\")\n",
    "plt.savefig('../output/NorthlatVsCloud.png')"
   ]
  },
  {
   "cell_type": "markdown",
   "metadata": {},
   "source": [
    "####  Southern Hemisphere - Cloudiness (%) vs. Latitude Linear Regression"
   ]
  },
  {
   "cell_type": "code",
   "execution_count": 22,
   "metadata": {},
   "outputs": [
    {
     "name": "stdout",
     "output_type": "stream",
     "text": [
      "The r-value is: -0.04287022371624723\n"
     ]
    },
    {
     "data": {
      "image/png": "[encoded data removed]",
      "text/plain": [
       "<Figure size 432x288 with 1 Axes>"
      ]
     },
     "metadata": {
      "needs_background": "light"
     },
     "output_type": "display_data"
    }
   ],
   "source": [
    "ax1 = south_cities.plot.scatter(x='Lat',\n",
    "...                       y='Cloudiness',\n",
    "...                       c='DarkBlue',\n",
    "                                )\n",
    "(slope, intercept, rvalue, pvalue, stderr) = linregress(south_cities['Lat'], south_cities['Cloudiness'])\n",
    "print(f\"The r-value is: {rvalue}\")\n",
    "regress_values = south_cities['Lat'] * slope + intercept\n",
    "ax1.plot(south_cities['Lat'],regress_values,\"r-\")\n",
    "ax1.grid()\n",
    "line_eq = \"y = \" + str(round(slope,2)) + \"x + \" + str(round(intercept,2))\n",
    "ax1.annotate(line_eq,(-10,0.8),fontsize=15,color=\"red\")\n",
    "plt.savefig('../output/SouthlatVsCloud.png')"
   ]
  },
  {
   "cell_type": "markdown",
   "metadata": {},
   "source": [
    "####  Northern Hemisphere - Wind Speed (mph) vs. Latitude Linear Regression"
   ]
  },
  {
   "cell_type": "code",
   "execution_count": 23,
   "metadata": {},
   "outputs": [
    {
     "name": "stdout",
     "output_type": "stream",
     "text": [
      "The r-value is: -0.030296106246650377\n"
     ]
    },
    {
     "data": {
      "image/png": "[encoded data removed]",
      "text/plain": [
       "<Figure size 432x288 with 1 Axes>"
      ]
     },
     "metadata": {
      "needs_background": "light"
     },
     "output_type": "display_data"
    }
   ],
   "source": [
    "ax1 = north_cities.plot.scatter(x='Lat',\n",
    "...                       y='Wind Speed',\n",
    "...                       c='DarkBlue',\n",
    "                                )\n",
    "(slope, intercept, rvalue, pvalue, stderr) = linregress(north_cities['Lat'], north_cities['Wind Speed'])\n",
    "print(f\"The r-value is: {rvalue}\")\n",
    "regress_values = north_cities['Lat'] * slope + intercept\n",
    "ax1.plot(north_cities['Lat'],regress_values,\"r-\")\n",
    "ax1.grid()\n",
    "line_eq = \"y = \" + str(round(slope,3)) + \"x + \" + str(round(intercept,2))\n",
    "ax1.annotate(line_eq,(5.8,10.8),fontsize=15,color=\"red\")\n",
    "plt.savefig('../output/NorthlatVsWind.png')"
   ]
  },
  {
   "cell_type": "markdown",
   "metadata": {},
   "source": [
    "####  Southern Hemisphere - Wind Speed (mph) vs. Latitude Linear Regression"
   ]
  },
  {
   "cell_type": "code",
   "execution_count": 24,
   "metadata": {},
   "outputs": [
    {
     "name": "stdout",
     "output_type": "stream",
     "text": [
      "The r-value is: 0.045964635583816006\n"
     ]
    },
    {
     "data": {
      "image/png": "[encoded data removed]",
      "text/plain": [
       "<Figure size 432x288 with 1 Axes>"
      ]
     },
     "metadata": {
      "needs_background": "light"
     },
     "output_type": "display_data"
    }
   ],
   "source": [
    "ax1 = south_cities.plot.scatter(x='Lat',\n",
    "...                       y='Wind Speed',\n",
    "...                       c='DarkBlue',\n",
    "                                )\n",
    "(slope, intercept, rvalue, pvalue, stderr) = linregress(south_cities['Lat'], south_cities['Wind Speed'])\n",
    "print(f\"The r-value is: {rvalue}\")\n",
    "regress_values = south_cities['Lat'] * slope + intercept\n",
    "ax1.plot(south_cities['Lat'],regress_values,\"r-\")\n",
    "ax1.grid()\n",
    "line_eq = \"y = \" + str(round(slope,3)) + \"x + \" + str(round(intercept,2))\n",
    "ax1.annotate(line_eq,(-54.8,-0.2),fontsize=15,color=\"red\")\n",
    "plt.savefig('../output/SouthlatVsWind.png')"
   ]
  },
  {
   "cell_type": "code",
   "execution_count": null,
   "metadata": {},
   "outputs": [],
   "source": []
  }
 ],
 "metadata": {
  "anaconda-cloud": {},
  "kernel_info": {
   "name": "python3"
  },
  "kernelspec": {
   "display_name": "Python 3 (ipykernel)",
   "language": "python",
   "name": "python3"
  },
  "language_info": {
   "codemirror_mode": {
    "name": "ipython",
    "version": 3
   },
   "file_extension": ".py",
   "mimetype": "text/x-python",
   "name": "python",
   "nbconvert_exporter": "python",
   "pygments_lexer": "ipython3",
   "version": "3.9.12"
  },
  "latex_envs": {
   "LaTeX_envs_menu_present": true,
   "autoclose": false,
   "autocomplete": true,
   "bibliofile": "biblio.bib",
   "cite_by": "apalike",
   "current_citInitial": 1,
   "eqLabelWithNumbers": true,
   "eqNumInitial": 1,
   "hotkeys": {
    "equation": "Ctrl-E",
    "itemize": "Ctrl-I"
   },
   "labels_anchors": false,
   "latex_user_defs": false,
   "report_style_numbering": false,
   "user_envs_cfg": false
  },
  "nteract": {
   "version": "0.12.3"
  }
 },
 "nbformat": 4,
 "nbformat_minor": 2
}
