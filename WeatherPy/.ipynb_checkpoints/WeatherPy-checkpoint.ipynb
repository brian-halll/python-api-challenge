{
 "cells": [
  {
   "cell_type": "markdown",
   "metadata": {},
   "source": [
    "# WeatherPy\n",
    "----\n",
    "\n",
    "#### Note\n",
    "* Instructions have been included for each segment. You do not have to follow them exactly, but they are included to help you think through the steps."
   ]
  },
  {
   "cell_type": "code",
   "execution_count": 3,
   "metadata": {},
   "outputs": [],
   "source": [
    "# pip install citipy"
   ]
  },
  {
   "cell_type": "code",
   "execution_count": 2,
   "metadata": {
    "scrolled": true
   },
   "outputs": [],
   "source": [
    "# Dependencies and Setup\n",
    "import matplotlib.pyplot as plt\n",
    "import pandas as pd\n",
    "import numpy as np\n",
    "import requests\n",
    "import time\n",
    "from scipy.stats import linregress\n",
    "from pprint import pprint\n",
    "\n",
    "# Import API key\n",
    "from api_keys import weather_api_key\n",
    "\n",
    "# Incorporated citipy to determine city based on latitude and longitude\n",
    "from citipy import citipy\n",
    "\n",
    "# Output File (CSV)\n",
    "output_data_file = \"output_data/cities.csv\"\n",
    "\n",
    "# Range of latitudes and longitudes\n",
    "lat_range = (-90, 90)\n",
    "lng_range = (-180, 180)"
   ]
  },
  {
   "cell_type": "markdown",
   "metadata": {},
   "source": [
    "## Generate Cities List"
   ]
  },
  {
   "cell_type": "code",
   "execution_count": 3,
   "metadata": {},
   "outputs": [
    {
     "data": {
      "text/plain": [
       "601"
      ]
     },
     "execution_count": 3,
     "metadata": {},
     "output_type": "execute_result"
    }
   ],
   "source": [
    "# List for holding lat_lngs and cities\n",
    "lat_lngs = []\n",
    "cities = []\n",
    "\n",
    "# Create a set of random lat and lng combinations\n",
    "lats = np.random.uniform(lat_range[0], lat_range[1], size=1500)\n",
    "lngs = np.random.uniform(lng_range[0], lng_range[1], size=1500)\n",
    "lat_lngs = zip(lats, lngs)\n",
    "\n",
    "# Identify nearest city for each lat, lng combination\n",
    "for lat_lng in lat_lngs:\n",
    "    city = citipy.nearest_city(lat_lng[0], lat_lng[1]).city_name\n",
    "    \n",
    "    # If the city is unique, then add it to a our cities list\n",
    "    if city not in cities:\n",
    "        cities.append(city)\n",
    "\n",
    "# Print the city count to confirm sufficient count\n",
    "len(cities)"
   ]
  },
  {
   "cell_type": "markdown",
   "metadata": {},
   "source": [
    "### Perform API Calls\n",
    "* Perform a weather check on each city using a series of successive API calls.\n",
    "* Include a print log of each city as it'sbeing processed (with the city number and city name).\n"
   ]
  },
  {
   "cell_type": "code",
   "execution_count": 4,
   "metadata": {},
   "outputs": [],
   "source": [
    "url = \"http://api.openweathermap.org/data/2.5/weather?\"\n",
    "units = \"metric\"\n",
    "\n",
    "# Build partial query URL\n",
    "query_url = f\"{url}appid={weather_api_key}&units={units}&q=\""
   ]
  },
  {
   "cell_type": "code",
   "execution_count": 5,
   "metadata": {},
   "outputs": [
    {
     "name": "stdout",
     "output_type": "stream",
     "text": [
      "{'base': 'stations',\n",
      " 'clouds': {'all': 81},\n",
      " 'cod': 200,\n",
      " 'coord': {'lat': 56.8332, 'lon': 13.9408},\n",
      " 'dt': 1658867072,\n",
      " 'id': 2694560,\n",
      " 'main': {'feels_like': 11.47,\n",
      "          'grnd_level': 991,\n",
      "          'humidity': 73,\n",
      "          'pressure': 1007,\n",
      "          'sea_level': 1007,\n",
      "          'temp': 12.28,\n",
      "          'temp_max': 13.23,\n",
      "          'temp_min': 12.21},\n",
      " 'name': 'Ljungby',\n",
      " 'sys': {'country': 'SE',\n",
      "         'id': 2012486,\n",
      "         'sunrise': 1658803920,\n",
      "         'sunset': 1658863753,\n",
      "         'type': 2},\n",
      " 'timezone': 7200,\n",
      " 'visibility': 10000,\n",
      " 'weather': [{'description': 'broken clouds',\n",
      "              'icon': '04n',\n",
      "              'id': 803,\n",
      "              'main': 'Clouds'}],\n",
      " 'wind': {'deg': 257, 'gust': 11.83, 'speed': 6.34}}\n"
     ]
    }
   ],
   "source": [
    "response = requests.get(query_url + city).json()\n",
    "pprint(response)"
   ]
  },
  {
   "cell_type": "code",
   "execution_count": 15,
   "metadata": {},
   "outputs": [
    {
     "name": "stdout",
     "output_type": "stream",
     "text": [
      "Beginning Data Retrieval...\n",
      "------------------------------\n",
      "Processing record 0 | taoudenni\n",
      "Processing record 1 | busselton\n",
      "Processing record 2 | tilichiki\n",
      "Processing record 3 | murray bridge\n",
      "Processing record 4 | lebu\n",
      "Processing record 5 | qaanaaq\n",
      "Processing record 6 | ushuaia\n",
      "Processing record 7 | victoria\n",
      "Processing record 8 | rikitea\n",
      "Processing record 9 | hobyo\n",
      "Processing record 10 | khatanga\n",
      "barentsburg not found. Skipping...\n",
      "Processing record 11 | saint-augustin\n",
      "Processing record 12 | bredasdorp\n",
      "Processing record 13 | chapais\n",
      "Processing record 14 | hilo\n",
      "Processing record 15 | yellowknife\n",
      "Processing record 16 | bethel\n",
      "Processing record 17 | bluff\n",
      "Processing record 18 | alexandria\n",
      "Processing record 19 | new norfolk\n",
      "Processing record 20 | southbridge\n",
      "Processing record 21 | bermeo\n",
      "Processing record 22 | jiazi\n",
      "Processing record 23 | tautira\n",
      "Processing record 24 | arraial do cabo\n",
      "Processing record 25 | severo-kurilsk\n",
      "temaraia not found. Skipping...\n",
      "Processing record 26 | hermanus\n",
      "Processing record 27 | tuatapere\n",
      "Processing record 28 | butaritari\n",
      "Processing record 29 | cidreira\n",
      "Processing record 30 | port-gentil\n",
      "Processing record 31 | kapaa\n",
      "Processing record 32 | mandalgovi\n",
      "Processing record 33 | wamba\n",
      "Processing record 34 | san policarpo\n",
      "Processing record 35 | hobart\n",
      "Processing record 36 | pandan\n",
      "Processing record 37 | ashcroft\n",
      "Processing record 38 | olafsvik\n",
      "Processing record 39 | otaru\n",
      "Processing record 40 | huejuquilla el alto\n",
      "belushya guba not found. Skipping...\n",
      "Processing record 41 | punta arenas\n",
      "taolanaro not found. Skipping...\n",
      "Processing record 42 | sarandi\n",
      "Processing record 43 | oistins\n",
      "Processing record 44 | albany\n",
      "Processing record 45 | pangnirtung\n",
      "Processing record 46 | nishihara\n",
      "Processing record 47 | esperance\n",
      "Processing record 48 | magadan\n",
      "Processing record 49 | vaini\n",
      "Processing record 50 | pronsk\n",
      "Processing record 51 | severomuysk\n",
      "vaitupu not found. Skipping...\n",
      "Processing record 52 | barrow\n",
      "Processing record 53 | atuona\n",
      "Processing record 54 | cabo san lucas\n",
      "Processing record 55 | upernavik\n",
      "Processing record 56 | great falls\n",
      "Processing record 57 | romanovo\n",
      "Processing record 58 | cape town\n",
      "Processing record 59 | sinnamary\n",
      "Processing record 60 | biak\n",
      "Processing record 61 | jamestown\n",
      "Processing record 62 | padang\n",
      "illoqqortoormiut not found. Skipping...\n",
      "Processing record 63 | coffs harbour\n",
      "Processing record 64 | fortuna\n",
      "Processing record 65 | bambous virieux\n",
      "Processing record 66 | san cristobal\n",
      "Processing record 67 | carnarvon\n",
      "Processing record 68 | baltasi\n",
      "Processing record 69 | malakal\n",
      "Processing record 70 | hamilton\n",
      "Processing record 71 | tabatinga\n",
      "Processing record 72 | curup\n",
      "Processing record 73 | castanos\n",
      "Processing record 74 | ban tak\n",
      "Processing record 75 | tiksi\n",
      "Processing record 76 | tura\n",
      "Processing record 77 | morgan city\n",
      "Processing record 78 | buala\n",
      "Processing record 79 | te anau\n",
      "Processing record 80 | dawei\n",
      "Processing record 81 | kodiak\n",
      "Processing record 82 | sioux lookout\n",
      "Processing record 83 | tasiilaq\n",
      "Processing record 84 | nouadhibou\n",
      "Processing record 85 | mackenzie\n",
      "Processing record 86 | broome\n",
      "Processing record 87 | dingle\n",
      "Processing record 88 | mahebourg\n",
      "Processing record 89 | poya\n",
      "Processing record 90 | vardo\n",
      "Processing record 91 | port alfred\n",
      "Processing record 92 | caravelas\n",
      "Processing record 93 | dikson\n",
      "Processing record 94 | oxbow\n",
      "Processing record 95 | khani\n",
      "Processing record 96 | mamou\n",
      "Processing record 97 | garowe\n",
      "Processing record 98 | souillac\n",
      "Processing record 99 | leshukonskoye\n",
      "Processing record 100 | ponta do sol\n",
      "Processing record 101 | san patricio\n",
      "Processing record 102 | nanortalik\n",
      "Processing record 103 | longyearbyen\n",
      "Processing record 104 | fallon\n",
      "Processing record 105 | kavieng\n",
      "Processing record 106 | sicuani\n",
      "Processing record 107 | namatanai\n",
      "Processing record 108 | beian\n",
      "Processing record 109 | sitka\n",
      "Processing record 110 | lagoa\n",
      "Processing record 111 | nikolskoye\n",
      "Processing record 112 | severnoye\n",
      "Processing record 113 | puerto ayora\n",
      "Processing record 114 | asau\n",
      "Processing record 115 | shakiso\n",
      "Processing record 116 | hasaki\n",
      "Processing record 117 | naron\n",
      "Processing record 118 | cherskiy\n",
      "Processing record 119 | ilulissat\n",
      "Processing record 120 | salalah\n",
      "Processing record 121 | chuy\n",
      "tsihombe not found. Skipping...\n",
      "Processing record 122 | makat\n",
      "Processing record 123 | chimore\n",
      "Processing record 124 | mareeba\n",
      "Processing record 125 | benemerito de las americas\n",
      "Processing record 126 | lorengau\n",
      "Processing record 127 | tessalit\n",
      "Processing record 128 | passagem franca\n",
      "Processing record 129 | pasighat\n",
      "Processing record 130 | sechura\n",
      "Processing record 131 | torbay\n",
      "Processing record 132 | kieta\n",
      "Processing record 133 | bontang\n",
      "Processing record 134 | narsaq\n",
      "Processing record 135 | mar del plata\n",
      "Processing record 136 | xinye\n",
      "Processing record 137 | naze\n",
      "Processing record 138 | nizwa\n",
      "gulshat not found. Skipping...\n",
      "Processing record 139 | jeremie\n",
      "Processing record 140 | amahai\n",
      "Processing record 141 | mastic beach\n",
      "Processing record 142 | grand gaube\n",
      "Processing record 143 | tuktoyaktuk\n",
      "Processing record 144 | thompson\n",
      "Processing record 145 | ovalle\n",
      "Processing record 146 | bathsheba\n",
      "Processing record 147 | paita\n",
      "burica not found. Skipping...\n",
      "Processing record 148 | port hedland\n",
      "saleaula not found. Skipping...\n",
      "Processing record 149 | kaitangata\n",
      "Processing record 150 | georgetown\n",
      "Processing record 151 | vanimo\n",
      "Processing record 152 | srednekolymsk\n",
      "Processing record 153 | ternate\n",
      "Processing record 154 | wagar\n",
      "pilao arcado not found. Skipping...\n",
      "Processing record 155 | castro\n",
      "Processing record 156 | askiz\n",
      "Processing record 157 | manaus\n",
      "Processing record 158 | duzce\n",
      "Processing record 159 | mazagao\n",
      "Processing record 160 | saskylakh\n",
      "Processing record 161 | khandyga\n",
      "Processing record 162 | christchurch\n",
      "Processing record 163 | hami\n",
      "Processing record 164 | cuaspud\n",
      "Processing record 165 | antofagasta\n",
      "Processing record 166 | waipawa\n",
      "Processing record 167 | kuytun\n",
      "Processing record 168 | prince george\n",
      "Processing record 169 | naryan-mar\n",
      "Processing record 170 | sao joao da barra\n",
      "karkaralinsk not found. Skipping...\n",
      "Processing record 171 | kathmandu\n",
      "Processing record 172 | hithadhoo\n",
      "sentyabrskiy not found. Skipping...\n",
      "Processing record 173 | east london\n",
      "Processing record 174 | bermejo\n",
      "Processing record 175 | oranjemund\n",
      "Processing record 176 | salisbury\n",
      "Processing record 177 | constitucion\n",
      "Processing record 178 | nyurba\n",
      "Processing record 179 | sao miguel do araguaia\n",
      "Processing record 180 | iqaluit\n",
      "Processing record 181 | komsomolskiy\n",
      "Processing record 182 | manado\n",
      "Processing record 183 | hovd\n",
      "Processing record 184 | pevek\n",
      "galgani not found. Skipping...\n",
      "vitimskiy not found. Skipping...\n",
      "Processing record 185 | alberton\n",
      "Processing record 186 | airai\n",
      "Processing record 187 | half moon bay\n",
      "Processing record 188 | bulnes\n",
      "Processing record 189 | umm lajj\n",
      "Processing record 190 | norman wells\n",
      "Processing record 191 | mercedes\n",
      "Processing record 192 | tiarei\n",
      "Processing record 193 | umm kaddadah\n",
      "Processing record 194 | mataura\n",
      "Processing record 195 | ambulu\n",
      "Processing record 196 | luderitz\n",
      "Processing record 197 | salina cruz\n",
      "Processing record 198 | teshie\n",
      "Processing record 199 | tshikapa\n",
      "amderma not found. Skipping...\n",
      "Processing record 200 | iclanzel\n",
      "Processing record 201 | dudhani\n",
      "Processing record 202 | arys\n",
      "Processing record 203 | mumford\n",
      "Processing record 204 | barra\n",
      "Processing record 205 | palmer\n",
      "Processing record 206 | waddan\n",
      "Processing record 207 | kaffrine\n",
      "Processing record 208 | rawson\n",
      "Processing record 209 | rundu\n",
      "Processing record 210 | warman\n",
      "Processing record 211 | skibbereen\n",
      "Processing record 212 | santa fe\n",
      "Processing record 213 | comodoro rivadavia\n",
      "Processing record 214 | tanhacu\n",
      "Processing record 215 | fairbanks\n",
      "tidore not found. Skipping...\n",
      "Processing record 216 | herbertpur\n",
      "Processing record 217 | praia da vitoria\n",
      "Processing record 218 | mitu\n",
      "Processing record 219 | isla vista\n",
      "Processing record 220 | saldanha\n",
      "Processing record 221 | volosovo\n",
      "Processing record 222 | vao\n",
      "Processing record 223 | raton\n",
      "Processing record 224 | port hardy\n",
      "Processing record 225 | quang ngai\n",
      "Processing record 226 | ambilobe\n",
      "Processing record 227 | sabang\n",
      "Processing record 228 | faanui\n",
      "Processing record 229 | puerto suarez\n",
      "Processing record 230 | chokurdakh\n",
      "galiwinku not found. Skipping...\n",
      "ambodifototra not found. Skipping...\n"
     ]
    },
    {
     "name": "stdout",
     "output_type": "stream",
     "text": [
      "Processing record 231 | semirom\n",
      "Processing record 232 | matamoros\n",
      "Processing record 233 | indianola\n",
      "Processing record 234 | vitim\n",
      "Processing record 235 | henties bay\n",
      "Processing record 236 | talnakh\n",
      "tumannyy not found. Skipping...\n",
      "Processing record 237 | seddon\n",
      "Processing record 238 | amapa\n",
      "Processing record 239 | cap malheureux\n",
      "Processing record 240 | guangyuan\n",
      "Processing record 241 | lata\n",
      "Processing record 242 | peniche\n",
      "Processing record 243 | ratlam\n",
      "labutta not found. Skipping...\n",
      "Processing record 244 | zhemtala\n",
      "Processing record 245 | saint-philippe\n",
      "Processing record 246 | champerico\n",
      "Processing record 247 | batavia\n",
      "Processing record 248 | diego de almagro\n",
      "Processing record 249 | hambantota\n",
      "Processing record 250 | alice springs\n",
      "Processing record 251 | san jose\n",
      "Processing record 252 | tshane\n",
      "Processing record 253 | san rafael\n",
      "Processing record 254 | tamiahua\n",
      "Processing record 255 | poum\n",
      "Processing record 256 | kemi\n",
      "Processing record 257 | berezovyy\n",
      "Processing record 258 | kwinana\n",
      "Processing record 259 | ahuimanu\n",
      "khonuu not found. Skipping...\n",
      "Processing record 260 | kyakhta\n",
      "Processing record 261 | pozo colorado\n",
      "Processing record 262 | cachoeiras de macacu\n",
      "Processing record 263 | katsuura\n",
      "Processing record 264 | goderich\n",
      "marcona not found. Skipping...\n",
      "Processing record 265 | takaka\n",
      "Processing record 266 | tommot\n",
      "Processing record 267 | shumskiy\n",
      "Processing record 268 | grindavik\n",
      "Processing record 269 | tongliao\n",
      "Processing record 270 | pisco\n",
      "Processing record 271 | berbera\n",
      "Processing record 272 | stavyshche\n",
      "Processing record 273 | hofn\n",
      "palabuhanratu not found. Skipping...\n",
      "Processing record 274 | ewa beach\n",
      "Processing record 275 | saint george\n",
      "Processing record 276 | maltahohe\n",
      "Processing record 277 | avarua\n",
      "Processing record 278 | port elizabeth\n",
      "Processing record 279 | isangel\n",
      "Processing record 280 | broken hill\n",
      "Processing record 281 | bilibino\n",
      "Processing record 282 | saint anthony\n",
      "Processing record 283 | acarau\n",
      "Processing record 284 | zhigansk\n",
      "Processing record 285 | coihaique\n",
      "Processing record 286 | anloga\n",
      "Processing record 287 | sarh\n",
      "Processing record 288 | slave lake\n",
      "Processing record 289 | kruisfontein\n",
      "samusu not found. Skipping...\n",
      "Processing record 290 | preobrazheniye\n",
      "Processing record 291 | bilma\n",
      "Processing record 292 | geraldton\n",
      "Processing record 293 | nalut\n",
      "asayita not found. Skipping...\n",
      "Processing record 294 | bitkine\n",
      "Processing record 295 | alofi\n",
      "Processing record 296 | sobolevo\n",
      "Processing record 297 | grande prairie\n",
      "Processing record 298 | saint-pierre\n",
      "Processing record 299 | manoel urbano\n",
      "Processing record 300 | newport\n",
      "Processing record 301 | kathu\n",
      "Processing record 302 | hongjiang\n",
      "Processing record 303 | sorland\n",
      "Processing record 304 | calbuco\n",
      "Processing record 305 | viedma\n",
      "Processing record 306 | tigil\n",
      "Processing record 307 | colac\n",
      "nizhneyansk not found. Skipping...\n",
      "hsintien not found. Skipping...\n",
      "Processing record 308 | inongo\n",
      "Processing record 309 | progreso\n",
      "Processing record 310 | yeppoon\n",
      "Processing record 311 | dawson creek\n",
      "Processing record 312 | abbeville\n",
      "Processing record 313 | provideniya\n",
      "Processing record 314 | lasa\n",
      "Processing record 315 | vestmannaeyjar\n",
      "Processing record 316 | springbok\n",
      "Processing record 317 | fukue\n",
      "Processing record 318 | mayumba\n",
      "kegayli not found. Skipping...\n",
      "Processing record 319 | sibolga\n",
      "Processing record 320 | hay river\n",
      "Processing record 321 | altagracia de orituco\n",
      "Processing record 322 | mecca\n",
      "Processing record 323 | touros\n",
      "Processing record 324 | marzuq\n",
      "Processing record 325 | petropavlovsk-kamchatskiy\n",
      "Processing record 326 | panguna\n",
      "Processing record 327 | den helder\n",
      "Processing record 328 | uyemskiy\n",
      "Processing record 329 | san francisco del mar\n",
      "meyungs not found. Skipping...\n",
      "Processing record 330 | masuda\n",
      "Processing record 331 | saint-denis\n",
      "Processing record 332 | haines junction\n",
      "Processing record 333 | port maria\n",
      "Processing record 334 | coquimbo\n",
      "Processing record 335 | kropotkin\n",
      "bargal not found. Skipping...\n",
      "Processing record 336 | shingu\n",
      "tabiauea not found. Skipping...\n",
      "Processing record 337 | sakakah\n",
      "Processing record 338 | jalu\n",
      "Processing record 339 | waitara\n",
      "Processing record 340 | kambove\n",
      "Processing record 341 | sao filipe\n",
      "Processing record 342 | manggar\n",
      "Processing record 343 | banda aceh\n",
      "Processing record 344 | san carlos de bariloche\n",
      "Processing record 345 | kaduy\n",
      "Processing record 346 | axim\n",
      "Processing record 347 | beringovskiy\n",
      "Processing record 348 | zhezkazgan\n",
      "Processing record 349 | pahalgam\n",
      "Processing record 350 | kalanguy\n",
      "Processing record 351 | yulara\n",
      "Processing record 352 | mayo\n",
      "Processing record 353 | nampa\n",
      "Processing record 354 | san pedro\n",
      "Processing record 355 | xuanzhou\n",
      "Processing record 356 | eenhana\n",
      "Processing record 357 | codrington\n",
      "mys shmidta not found. Skipping...\n",
      "Processing record 358 | sorong\n",
      "Processing record 359 | lively\n",
      "Processing record 360 | lodja\n",
      "Processing record 361 | ixtapa\n",
      "Processing record 362 | coos bay\n",
      "Processing record 363 | la libertad\n",
      "Processing record 364 | saint-francois\n",
      "Processing record 365 | mitsamiouli\n",
      "Processing record 366 | quisqueya\n",
      "Processing record 367 | pinega\n",
      "Processing record 368 | hindupur\n",
      "Processing record 369 | koungheul\n",
      "Processing record 370 | gilgit\n",
      "Processing record 371 | gemena\n",
      "Processing record 372 | zaozerne\n",
      "Processing record 373 | zaraza\n",
      "Processing record 374 | sant julia de loria\n",
      "Processing record 375 | mbanza-ngungu\n",
      "Processing record 376 | flin flon\n",
      "Processing record 377 | oranjestad\n",
      "Processing record 378 | ribeira grande\n",
      "Processing record 379 | smiltene\n",
      "Processing record 380 | acapulco\n",
      "Processing record 381 | tevaitoa\n",
      "Processing record 382 | guerrero negro\n",
      "Processing record 383 | wukari\n",
      "lemesos not found. Skipping...\n",
      "Processing record 384 | havre-saint-pierre\n",
      "Processing record 385 | pemalang\n",
      "Processing record 386 | ouadda\n",
      "Processing record 387 | kalmunai\n",
      "Processing record 388 | paamiut\n",
      "Processing record 389 | kalemie\n",
      "yomitan not found. Skipping...\n",
      "Processing record 390 | coahuayana\n",
      "Processing record 391 | avera\n",
      "Processing record 392 | mayfield\n",
      "Processing record 393 | hammerfest\n",
      "Processing record 394 | altay\n",
      "Processing record 395 | lapeer\n",
      "Processing record 396 | qandala\n",
      "Processing record 397 | tecoanapa\n",
      "Processing record 398 | areosa\n",
      "Processing record 399 | casablanca\n",
      "Processing record 400 | eha amufu\n",
      "Processing record 401 | bengkulu\n",
      "Processing record 402 | morant bay\n",
      "Processing record 403 | baruun-urt\n",
      "Processing record 404 | kaura namoda\n",
      "Processing record 405 | linxia\n",
      "Processing record 406 | kahului\n",
      "Processing record 407 | los llanos de aridane\n",
      "Processing record 408 | wilmington\n",
      "Processing record 409 | namibe\n",
      "Processing record 410 | paris\n",
      "Processing record 411 | alta floresta\n",
      "Processing record 412 | yuzhno-sukhokumsk\n",
      "Processing record 413 | atar\n",
      "jujuy not found. Skipping...\n",
      "haibowan not found. Skipping...\n",
      "babanusah not found. Skipping...\n",
      "Processing record 414 | kuah\n",
      "Processing record 415 | kavaratti\n",
      "Processing record 416 | temecula\n",
      "grand river south east not found. Skipping...\n",
      "Processing record 417 | fort frances\n",
      "Processing record 418 | karabulak\n",
      "Processing record 419 | sola\n",
      "Processing record 420 | auki\n",
      "Processing record 421 | mayor pablo lagerenza\n",
      "Processing record 422 | gwadar\n",
      "Processing record 423 | douentza\n",
      "Processing record 424 | dauphin\n",
      "Processing record 425 | sabratah\n",
      "Processing record 426 | jardim\n",
      "dianopolis not found. Skipping...\n",
      "jarjis not found. Skipping...\n",
      "Processing record 427 | inuvik\n",
      "Processing record 428 | pundaguitan\n",
      "Processing record 429 | kosh-agach\n",
      "Processing record 430 | buluang\n",
      "Processing record 431 | talas\n",
      "Processing record 432 | puerto escondido\n",
      "Processing record 433 | ostrovnoy\n",
      "Processing record 434 | kenai\n",
      "Processing record 435 | houma\n",
      "Processing record 436 | port lincoln\n",
      "shkotovo-26 not found. Skipping...\n",
      "Processing record 437 | lompoc\n",
      "Processing record 438 | san andres\n",
      "Processing record 439 | beyneu\n",
      "Processing record 440 | stykkisholmur\n",
      "scottsburgh not found. Skipping...\n",
      "bur gabo not found. Skipping...\n",
      "Processing record 441 | san jose de guanipa\n",
      "Processing record 442 | balkhash\n",
      "Processing record 443 | korla\n",
      "ningan not found. Skipping...\n",
      "Processing record 444 | nemuro\n",
      "Processing record 445 | burnie\n",
      "Processing record 446 | bronnoysund\n",
      "Processing record 447 | natal\n",
      "Processing record 448 | worthington\n"
     ]
    },
    {
     "name": "stdout",
     "output_type": "stream",
     "text": [
      "Processing record 449 | college\n",
      "Processing record 450 | nueva guinea\n",
      "Processing record 451 | kapelle\n",
      "Processing record 452 | carutapera\n",
      "Processing record 453 | belyy yar\n",
      "Processing record 454 | mehamn\n",
      "Processing record 455 | zabol\n",
      "Processing record 456 | kilemary\n",
      "Processing record 457 | capreol\n",
      "Processing record 458 | zatoka\n",
      "Processing record 459 | dudinka\n",
      "Processing record 460 | nokaneng\n",
      "Processing record 461 | murwillumbah\n",
      "attawapiskat not found. Skipping...\n",
      "Processing record 462 | verkhnevilyuysk\n",
      "Processing record 463 | klaksvik\n",
      "Processing record 464 | mirnyy\n",
      "Processing record 465 | anito\n",
      "ji-parana not found. Skipping...\n",
      "Processing record 466 | watertown\n",
      "Processing record 467 | ancud\n",
      "Processing record 468 | ugoofaaru\n",
      "Processing record 469 | sigli\n",
      "Processing record 470 | meulaboh\n",
      "Processing record 471 | challans\n",
      "Processing record 472 | bac lieu\n",
      "Processing record 473 | puro\n",
      "Processing record 474 | makakilo city\n",
      "Processing record 475 | helena\n",
      "Processing record 476 | murnau\n",
      "Processing record 477 | port hueneme\n",
      "Processing record 478 | kjollefjord\n",
      "Processing record 479 | lavrentiya\n",
      "Processing record 480 | falun\n",
      "Processing record 481 | zambezi\n",
      "Processing record 482 | ozinki\n",
      "Processing record 483 | grand baie\n",
      "Processing record 484 | the valley\n",
      "Processing record 485 | yar-sale\n",
      "Processing record 486 | mianyang\n",
      "Processing record 487 | rocha\n",
      "Processing record 488 | porto velho\n",
      "Processing record 489 | buraydah\n",
      "Processing record 490 | ngunguru\n",
      "Processing record 491 | yumen\n",
      "khomeynishahr not found. Skipping...\n",
      "Processing record 492 | burns lake\n",
      "Processing record 493 | seydi\n",
      "Processing record 494 | leningradskiy\n",
      "Processing record 495 | karatau\n",
      "Processing record 496 | kandrian\n",
      "Processing record 497 | flinders\n",
      "Processing record 498 | ruidoso\n",
      "Processing record 499 | port blair\n",
      "Processing record 500 | odda\n",
      "Processing record 501 | kariba\n",
      "Processing record 502 | igarka\n",
      "Processing record 503 | cruzeiro do sul\n",
      "Processing record 504 | morro bay\n",
      "Processing record 505 | tabou\n",
      "Processing record 506 | ponta delgada\n",
      "Processing record 507 | nanjangud\n",
      "mentok not found. Skipping...\n",
      "bolungarvik not found. Skipping...\n",
      "Processing record 508 | batsfjord\n",
      "Processing record 509 | bambanglipuro\n",
      "Processing record 510 | karratha\n",
      "Processing record 511 | kuching\n",
      "Processing record 512 | lazaro cardenas\n",
      "Processing record 513 | tucurui\n",
      "Processing record 514 | vila\n",
      "Processing record 515 | charters towers\n",
      "Processing record 516 | jaisalmer\n",
      "Processing record 517 | atikokan\n",
      "Processing record 518 | eureka\n",
      "Processing record 519 | port augusta\n",
      "Processing record 520 | ust-karsk\n",
      "Processing record 521 | belaya gora\n",
      "Processing record 522 | jacareacanga\n",
      "Processing record 523 | portobelo\n",
      "Processing record 524 | floro\n",
      "Processing record 525 | laguna\n",
      "satitoa not found. Skipping...\n",
      "Processing record 526 | novyy urgal\n",
      "Processing record 527 | zhangjiakou\n",
      "Processing record 528 | ust-maya\n",
      "Processing record 529 | camacha\n",
      "Processing record 530 | sanlucar la mayor\n",
      "Processing record 531 | pringsewu\n",
      "Processing record 532 | kipushi\n",
      "Processing record 533 | balkanabat\n",
      "Processing record 534 | san juan\n",
      "Processing record 535 | garachine\n",
      "Processing record 536 | iisaku\n",
      "Processing record 537 | nanakuli\n",
      "Processing record 538 | bryan\n",
      "Processing record 539 | yanam\n",
      "Processing record 540 | aksarka\n",
      "Processing record 541 | curaca\n",
      "Processing record 542 | husavik\n",
      "Processing record 543 | crestview\n",
      "Processing record 544 | kemijarvi\n",
      "Processing record 545 | pahrump\n",
      "Processing record 546 | mount gambier\n",
      "Processing record 547 | novoorsk\n",
      "Processing record 548 | cocorit\n",
      "Processing record 549 | ljungby\n",
      "51 cities were not found...\n"
     ]
    }
   ],
   "source": [
    "found_cities = []\n",
    "temps = []\n",
    "lats = []\n",
    "lons = []\n",
    "hums = []\n",
    "clouds = []\n",
    "wnd_speed = []\n",
    "country = []\n",
    "date = []\n",
    "count = 0\n",
    "notFound = 0\n",
    "\n",
    "# test_cities = [cities[0],cities[1],cities[2],cities[3],cities[4],cities[5]]\n",
    "\n",
    "print(\"Beginning Data Retrieval...\")\n",
    "print(\"------------------------------\")\n",
    "\n",
    "for city in cities:\n",
    "\n",
    "    try:\n",
    "\n",
    "        response = requests.get(query_url + city).json()\n",
    "        temps.append(response['main']['temp_max'])\n",
    "        hums.append(response['main']['humidity'])\n",
    "        lats.append(response['coord']['lat'])\n",
    "        lons.append(response['coord']['lon'])\n",
    "        clouds.append(response['clouds']['all'])\n",
    "        wnd_speed.append(response['wind']['speed'])\n",
    "        country.append(response['sys']['country'])\n",
    "        date.append(response['dt'])\n",
    "        found_cities.append(city)\n",
    "\n",
    "        print(f\"Processing record {count} | {city}\")\n",
    "        count = count + 1\n",
    "        \n",
    "    except:\n",
    "        print(f\"{city} not found. Skipping...\")\n",
    "        notFound = notFound + 1\n",
    "            \n",
    "print(f\"{notFound} cities were not found...\")"
   ]
  },
  {
   "cell_type": "markdown",
   "metadata": {},
   "source": [
    "### Convert Raw Data to DataFrame\n",
    "* Export the city data into a .csv.\n",
    "* Display the DataFrame"
   ]
  },
  {
   "cell_type": "code",
   "execution_count": 16,
   "metadata": {},
   "outputs": [
    {
     "name": "stdout",
     "output_type": "stream",
     "text": [
      "Cities :  550\n",
      "Lat : 550\n",
      "Lon : 550\n",
      "Max Temp : 550\n",
      "Humidity : 550\n",
      "Wind Speed : 550\n",
      "Cloudiness : 550\n",
      "Country : 550\n",
      "Date : 550\n"
     ]
    }
   ],
   "source": [
    "print(f\"Cities :  {len(found_cities)}\")\n",
    "print(f\"Lat : {len(lats)}\")\n",
    "print(f\"Lon : {len(lons)}\")\n",
    "print(f\"Max Temp : {len(temps)}\")\n",
    "print(f\"Humidity : {len(hums)}\")\n",
    "print(f\"Wind Speed : {len(wnd_speed)}\")\n",
    "print(f\"Cloudiness : {len(clouds)}\")\n",
    "print(f\"Country : {len(country)}\")\n",
    "print(f\"Date : {len(date)}\")            "
   ]
  },
  {
   "cell_type": "code",
   "execution_count": 56,
   "metadata": {},
   "outputs": [
    {
     "data": {
      "text/html": [
       "<div>\n",
       "<style scoped>\n",
       "    .dataframe tbody tr th:only-of-type {\n",
       "        vertical-align: middle;\n",
       "    }\n",
       "\n",
       "    .dataframe tbody tr th {\n",
       "        vertical-align: top;\n",
       "    }\n",
       "\n",
       "    .dataframe thead th {\n",
       "        text-align: right;\n",
       "    }\n",
       "</style>\n",
       "<table border=\"1\" class=\"dataframe\">\n",
       "  <thead>\n",
       "    <tr style=\"text-align: right;\">\n",
       "      <th></th>\n",
       "      <th>City</th>\n",
       "      <th>Lat</th>\n",
       "      <th>Lng</th>\n",
       "      <th>Max Temp</th>\n",
       "      <th>Humidity</th>\n",
       "      <th>Cloudiness</th>\n",
       "      <th>Wind Speed</th>\n",
       "      <th>Country</th>\n",
       "      <th>Date</th>\n",
       "    </tr>\n",
       "  </thead>\n",
       "  <tbody>\n",
       "    <tr>\n",
       "      <th>0</th>\n",
       "      <td>taoudenni</td>\n",
       "      <td>22.6783</td>\n",
       "      <td>-3.9836</td>\n",
       "      <td>40.00</td>\n",
       "      <td>9</td>\n",
       "      <td>65</td>\n",
       "      <td>5.24</td>\n",
       "      <td>ML</td>\n",
       "      <td>1658867590</td>\n",
       "    </tr>\n",
       "    <tr>\n",
       "      <th>1</th>\n",
       "      <td>busselton</td>\n",
       "      <td>-33.6500</td>\n",
       "      <td>115.3333</td>\n",
       "      <td>9.17</td>\n",
       "      <td>85</td>\n",
       "      <td>0</td>\n",
       "      <td>3.08</td>\n",
       "      <td>AU</td>\n",
       "      <td>1658868110</td>\n",
       "    </tr>\n",
       "    <tr>\n",
       "      <th>2</th>\n",
       "      <td>tilichiki</td>\n",
       "      <td>60.4667</td>\n",
       "      <td>166.1000</td>\n",
       "      <td>12.35</td>\n",
       "      <td>71</td>\n",
       "      <td>100</td>\n",
       "      <td>2.03</td>\n",
       "      <td>RU</td>\n",
       "      <td>1658867544</td>\n",
       "    </tr>\n",
       "    <tr>\n",
       "      <th>3</th>\n",
       "      <td>murray bridge</td>\n",
       "      <td>-35.1167</td>\n",
       "      <td>139.2667</td>\n",
       "      <td>11.74</td>\n",
       "      <td>89</td>\n",
       "      <td>99</td>\n",
       "      <td>2.61</td>\n",
       "      <td>AU</td>\n",
       "      <td>1658867751</td>\n",
       "    </tr>\n",
       "    <tr>\n",
       "      <th>4</th>\n",
       "      <td>lebu</td>\n",
       "      <td>-37.6167</td>\n",
       "      <td>-73.6500</td>\n",
       "      <td>11.79</td>\n",
       "      <td>79</td>\n",
       "      <td>3</td>\n",
       "      <td>7.62</td>\n",
       "      <td>CL</td>\n",
       "      <td>1658868111</td>\n",
       "    </tr>\n",
       "    <tr>\n",
       "      <th>...</th>\n",
       "      <td>...</td>\n",
       "      <td>...</td>\n",
       "      <td>...</td>\n",
       "      <td>...</td>\n",
       "      <td>...</td>\n",
       "      <td>...</td>\n",
       "      <td>...</td>\n",
       "      <td>...</td>\n",
       "      <td>...</td>\n",
       "    </tr>\n",
       "    <tr>\n",
       "      <th>545</th>\n",
       "      <td>pahrump</td>\n",
       "      <td>36.2083</td>\n",
       "      <td>-115.9839</td>\n",
       "      <td>35.80</td>\n",
       "      <td>38</td>\n",
       "      <td>37</td>\n",
       "      <td>1.34</td>\n",
       "      <td>US</td>\n",
       "      <td>1658868297</td>\n",
       "    </tr>\n",
       "    <tr>\n",
       "      <th>546</th>\n",
       "      <td>mount gambier</td>\n",
       "      <td>-37.8333</td>\n",
       "      <td>140.7667</td>\n",
       "      <td>9.95</td>\n",
       "      <td>100</td>\n",
       "      <td>75</td>\n",
       "      <td>4.63</td>\n",
       "      <td>AU</td>\n",
       "      <td>1658868298</td>\n",
       "    </tr>\n",
       "    <tr>\n",
       "      <th>547</th>\n",
       "      <td>novoorsk</td>\n",
       "      <td>51.3810</td>\n",
       "      <td>58.9813</td>\n",
       "      <td>17.36</td>\n",
       "      <td>85</td>\n",
       "      <td>99</td>\n",
       "      <td>6.20</td>\n",
       "      <td>RU</td>\n",
       "      <td>1658868298</td>\n",
       "    </tr>\n",
       "    <tr>\n",
       "      <th>548</th>\n",
       "      <td>cocorit</td>\n",
       "      <td>27.5833</td>\n",
       "      <td>-109.9667</td>\n",
       "      <td>22.19</td>\n",
       "      <td>56</td>\n",
       "      <td>81</td>\n",
       "      <td>5.43</td>\n",
       "      <td>MX</td>\n",
       "      <td>1658868299</td>\n",
       "    </tr>\n",
       "    <tr>\n",
       "      <th>549</th>\n",
       "      <td>ljungby</td>\n",
       "      <td>56.8332</td>\n",
       "      <td>13.9408</td>\n",
       "      <td>13.23</td>\n",
       "      <td>76</td>\n",
       "      <td>87</td>\n",
       "      <td>6.33</td>\n",
       "      <td>SE</td>\n",
       "      <td>1658867806</td>\n",
       "    </tr>\n",
       "  </tbody>\n",
       "</table>\n",
       "<p>550 rows × 9 columns</p>\n",
       "</div>"
      ],
      "text/plain": [
       "              City      Lat       Lng  Max Temp  Humidity  Cloudiness  \\\n",
       "0        taoudenni  22.6783   -3.9836     40.00         9          65   \n",
       "1        busselton -33.6500  115.3333      9.17        85           0   \n",
       "2        tilichiki  60.4667  166.1000     12.35        71         100   \n",
       "3    murray bridge -35.1167  139.2667     11.74        89          99   \n",
       "4             lebu -37.6167  -73.6500     11.79        79           3   \n",
       "..             ...      ...       ...       ...       ...         ...   \n",
       "545        pahrump  36.2083 -115.9839     35.80        38          37   \n",
       "546  mount gambier -37.8333  140.7667      9.95       100          75   \n",
       "547       novoorsk  51.3810   58.9813     17.36        85          99   \n",
       "548        cocorit  27.5833 -109.9667     22.19        56          81   \n",
       "549        ljungby  56.8332   13.9408     13.23        76          87   \n",
       "\n",
       "     Wind Speed Country        Date  \n",
       "0          5.24      ML  1658867590  \n",
       "1          3.08      AU  1658868110  \n",
       "2          2.03      RU  1658867544  \n",
       "3          2.61      AU  1658867751  \n",
       "4          7.62      CL  1658868111  \n",
       "..          ...     ...         ...  \n",
       "545        1.34      US  1658868297  \n",
       "546        4.63      AU  1658868298  \n",
       "547        6.20      RU  1658868298  \n",
       "548        5.43      MX  1658868299  \n",
       "549        6.33      SE  1658867806  \n",
       "\n",
       "[550 rows x 9 columns]"
      ]
     },
     "execution_count": 56,
     "metadata": {},
     "output_type": "execute_result"
    }
   ],
   "source": [
    "# create a data frame from cities, lat, and temp\n",
    "weather_dict = {\n",
    "    \"City\": found_cities,\n",
    "    \"Lat\": lats,\n",
    "    \"Lng\": lons,\n",
    "    \"Max Temp\": temps,\n",
    "    \"Humidity\": hums,\n",
    "    \"Cloudiness\": clouds,\n",
    "    \"Wind Speed\": wnd_speed,\n",
    "    \"Country\": country,\n",
    "    \"Date\": date\n",
    "}\n",
    "weather_data = pd.DataFrame(weather_dict)\n",
    "weather_data"
   ]
  },
  {
   "cell_type": "code",
   "execution_count": 54,
   "metadata": {},
   "outputs": [
    {
     "data": {
      "text/html": [
       "<div>\n",
       "<style scoped>\n",
       "    .dataframe tbody tr th:only-of-type {\n",
       "        vertical-align: middle;\n",
       "    }\n",
       "\n",
       "    .dataframe tbody tr th {\n",
       "        vertical-align: top;\n",
       "    }\n",
       "\n",
       "    .dataframe thead th {\n",
       "        text-align: right;\n",
       "    }\n",
       "</style>\n",
       "<table border=\"1\" class=\"dataframe\">\n",
       "  <thead>\n",
       "    <tr style=\"text-align: right;\">\n",
       "      <th></th>\n",
       "      <th>Lat</th>\n",
       "      <th>Lng</th>\n",
       "      <th>Max Temp</th>\n",
       "      <th>Humidity</th>\n",
       "      <th>Cloudiness</th>\n",
       "      <th>Wind Speed</th>\n",
       "      <th>Date</th>\n",
       "    </tr>\n",
       "  </thead>\n",
       "  <tbody>\n",
       "    <tr>\n",
       "      <th>count</th>\n",
       "      <td>550.000000</td>\n",
       "      <td>550.000000</td>\n",
       "      <td>550.000000</td>\n",
       "      <td>550.000000</td>\n",
       "      <td>550.000000</td>\n",
       "      <td>550.000000</td>\n",
       "      <td>5.500000e+02</td>\n",
       "    </tr>\n",
       "    <tr>\n",
       "      <th>mean</th>\n",
       "      <td>19.598551</td>\n",
       "      <td>12.620808</td>\n",
       "      <td>21.217873</td>\n",
       "      <td>71.254545</td>\n",
       "      <td>55.134545</td>\n",
       "      <td>3.497545</td>\n",
       "      <td>1.658868e+09</td>\n",
       "    </tr>\n",
       "    <tr>\n",
       "      <th>std</th>\n",
       "      <td>33.440588</td>\n",
       "      <td>93.103111</td>\n",
       "      <td>7.888830</td>\n",
       "      <td>21.020346</td>\n",
       "      <td>39.526387</td>\n",
       "      <td>2.304500</td>\n",
       "      <td>1.311957e+02</td>\n",
       "    </tr>\n",
       "    <tr>\n",
       "      <th>min</th>\n",
       "      <td>-54.800000</td>\n",
       "      <td>-175.200000</td>\n",
       "      <td>-0.250000</td>\n",
       "      <td>9.000000</td>\n",
       "      <td>0.000000</td>\n",
       "      <td>0.000000</td>\n",
       "      <td>1.658867e+09</td>\n",
       "    </tr>\n",
       "    <tr>\n",
       "      <th>max</th>\n",
       "      <td>78.218600</td>\n",
       "      <td>179.316700</td>\n",
       "      <td>40.000000</td>\n",
       "      <td>100.000000</td>\n",
       "      <td>100.000000</td>\n",
       "      <td>13.760000</td>\n",
       "      <td>1.658868e+09</td>\n",
       "    </tr>\n",
       "    <tr>\n",
       "      <th>25%</th>\n",
       "      <td>-6.216700</td>\n",
       "      <td>-70.044250</td>\n",
       "      <td>15.237500</td>\n",
       "      <td>59.000000</td>\n",
       "      <td>13.250000</td>\n",
       "      <td>1.845000</td>\n",
       "      <td>1.658868e+09</td>\n",
       "    </tr>\n",
       "    <tr>\n",
       "      <th>50%</th>\n",
       "      <td>21.435700</td>\n",
       "      <td>16.383300</td>\n",
       "      <td>22.295000</td>\n",
       "      <td>77.000000</td>\n",
       "      <td>66.000000</td>\n",
       "      <td>3.075000</td>\n",
       "      <td>1.658868e+09</td>\n",
       "    </tr>\n",
       "    <tr>\n",
       "      <th>75%</th>\n",
       "      <td>47.610225</td>\n",
       "      <td>96.932125</td>\n",
       "      <td>26.752500</td>\n",
       "      <td>88.000000</td>\n",
       "      <td>98.000000</td>\n",
       "      <td>4.630000</td>\n",
       "      <td>1.658868e+09</td>\n",
       "    </tr>\n",
       "  </tbody>\n",
       "</table>\n",
       "</div>"
      ],
      "text/plain": [
       "              Lat         Lng    Max Temp    Humidity  Cloudiness  Wind Speed  \\\n",
       "count  550.000000  550.000000  550.000000  550.000000  550.000000  550.000000   \n",
       "mean    19.598551   12.620808   21.217873   71.254545   55.134545    3.497545   \n",
       "std     33.440588   93.103111    7.888830   21.020346   39.526387    2.304500   \n",
       "min    -54.800000 -175.200000   -0.250000    9.000000    0.000000    0.000000   \n",
       "max     78.218600  179.316700   40.000000  100.000000  100.000000   13.760000   \n",
       "25%     -6.216700  -70.044250   15.237500   59.000000   13.250000    1.845000   \n",
       "50%     21.435700   16.383300   22.295000   77.000000   66.000000    3.075000   \n",
       "75%     47.610225   96.932125   26.752500   88.000000   98.000000    4.630000   \n",
       "\n",
       "               Date  \n",
       "count  5.500000e+02  \n",
       "mean   1.658868e+09  \n",
       "std    1.311957e+02  \n",
       "min    1.658867e+09  \n",
       "max    1.658868e+09  \n",
       "25%    1.658868e+09  \n",
       "50%    1.658868e+09  \n",
       "75%    1.658868e+09  "
      ]
     },
     "execution_count": 54,
     "metadata": {},
     "output_type": "execute_result"
    }
   ],
   "source": [
    "num_data = weather_data[['Lat', 'Lng', 'Max Temp', 'Humidity', 'Cloudiness', 'Wind Speed','Date']]\n",
    "agg_df = num_data.agg(['count','mean','std','min','max'])\n",
    "quantiles_df = num_data.quantile([.25,.5,.75])\n",
    "agg_df = pd.concat([agg_df, quantiles_df], axis=0)\n",
    "agg_df = agg_df.rename(index={\n",
    "    0.25: '25%',\n",
    "    0.5: '50%',\n",
    "    0.75: '75%',  \n",
    "                    })\n",
    "agg_df"
   ]
  },
  {
   "cell_type": "markdown",
   "metadata": {},
   "source": [
    "## Inspect the data and remove the cities where the humidity > 100%.\n",
    "----\n",
    "Skip this step if there are no cities that have humidity > 100%. "
   ]
  },
  {
   "cell_type": "code",
   "execution_count": 58,
   "metadata": {},
   "outputs": [
    {
     "data": {
      "text/html": [
       "<div>\n",
       "<style scoped>\n",
       "    .dataframe tbody tr th:only-of-type {\n",
       "        vertical-align: middle;\n",
       "    }\n",
       "\n",
       "    .dataframe tbody tr th {\n",
       "        vertical-align: top;\n",
       "    }\n",
       "\n",
       "    .dataframe thead th {\n",
       "        text-align: right;\n",
       "    }\n",
       "</style>\n",
       "<table border=\"1\" class=\"dataframe\">\n",
       "  <thead>\n",
       "    <tr style=\"text-align: right;\">\n",
       "      <th></th>\n",
       "      <th>City</th>\n",
       "      <th>Lat</th>\n",
       "      <th>Lng</th>\n",
       "      <th>Max Temp</th>\n",
       "      <th>Humidity</th>\n",
       "      <th>Cloudiness</th>\n",
       "      <th>Wind Speed</th>\n",
       "      <th>Country</th>\n",
       "      <th>Date</th>\n",
       "    </tr>\n",
       "  </thead>\n",
       "  <tbody>\n",
       "    <tr>\n",
       "      <th>0</th>\n",
       "      <td>taoudenni</td>\n",
       "      <td>22.6783</td>\n",
       "      <td>-3.9836</td>\n",
       "      <td>40.00</td>\n",
       "      <td>9</td>\n",
       "      <td>65</td>\n",
       "      <td>5.24</td>\n",
       "      <td>ML</td>\n",
       "      <td>1658867590</td>\n",
       "    </tr>\n",
       "    <tr>\n",
       "      <th>1</th>\n",
       "      <td>busselton</td>\n",
       "      <td>-33.6500</td>\n",
       "      <td>115.3333</td>\n",
       "      <td>9.17</td>\n",
       "      <td>85</td>\n",
       "      <td>0</td>\n",
       "      <td>3.08</td>\n",
       "      <td>AU</td>\n",
       "      <td>1658868110</td>\n",
       "    </tr>\n",
       "    <tr>\n",
       "      <th>2</th>\n",
       "      <td>tilichiki</td>\n",
       "      <td>60.4667</td>\n",
       "      <td>166.1000</td>\n",
       "      <td>12.35</td>\n",
       "      <td>71</td>\n",
       "      <td>100</td>\n",
       "      <td>2.03</td>\n",
       "      <td>RU</td>\n",
       "      <td>1658867544</td>\n",
       "    </tr>\n",
       "    <tr>\n",
       "      <th>3</th>\n",
       "      <td>murray bridge</td>\n",
       "      <td>-35.1167</td>\n",
       "      <td>139.2667</td>\n",
       "      <td>11.74</td>\n",
       "      <td>89</td>\n",
       "      <td>99</td>\n",
       "      <td>2.61</td>\n",
       "      <td>AU</td>\n",
       "      <td>1658867751</td>\n",
       "    </tr>\n",
       "    <tr>\n",
       "      <th>4</th>\n",
       "      <td>lebu</td>\n",
       "      <td>-37.6167</td>\n",
       "      <td>-73.6500</td>\n",
       "      <td>11.79</td>\n",
       "      <td>79</td>\n",
       "      <td>3</td>\n",
       "      <td>7.62</td>\n",
       "      <td>CL</td>\n",
       "      <td>1658868111</td>\n",
       "    </tr>\n",
       "  </tbody>\n",
       "</table>\n",
       "</div>"
      ],
      "text/plain": [
       "            City      Lat       Lng  Max Temp  Humidity  Cloudiness  \\\n",
       "0      taoudenni  22.6783   -3.9836     40.00         9          65   \n",
       "1      busselton -33.6500  115.3333      9.17        85           0   \n",
       "2      tilichiki  60.4667  166.1000     12.35        71         100   \n",
       "3  murray bridge -35.1167  139.2667     11.74        89          99   \n",
       "4           lebu -37.6167  -73.6500     11.79        79           3   \n",
       "\n",
       "   Wind Speed Country        Date  \n",
       "0        5.24      ML  1658867590  \n",
       "1        3.08      AU  1658868110  \n",
       "2        2.03      RU  1658867544  \n",
       "3        2.61      AU  1658867751  \n",
       "4        7.62      CL  1658868111  "
      ]
     },
     "execution_count": 58,
     "metadata": {},
     "output_type": "execute_result"
    }
   ],
   "source": [
    "sorted_cities = weather_data[weather_data['Humidity'] <= 100]\n",
    "sorted_cities.head()"
   ]
  },
  {
   "cell_type": "markdown",
   "metadata": {},
   "source": [
    "## Plotting the Data\n",
    "* Use proper labeling of the plots using plot titles (including date of analysis) and axes labels.\n",
    "* Save the plotted figures as .pngs."
   ]
  },
  {
   "cell_type": "markdown",
   "metadata": {},
   "source": [
    "## Latitude vs. Temperature Plot"
   ]
  },
  {
   "cell_type": "code",
   "execution_count": 106,
   "metadata": {},
   "outputs": [
    {
     "data": {
      "image/png": "[encoded data removed]",
      "text/plain": [
       "<Figure size 432x288 with 1 Axes>"
      ]
     },
     "metadata": {
      "needs_background": "light"
     },
     "output_type": "display_data"
    }
   ],
   "source": [
    "ax1 = sorted_cities.plot.scatter(x='Lat',\n",
    "...                       y='Max Temp',\n",
    "...                       c='DarkBlue',\n",
    "                                )\n",
    "ax1.grid()"
   ]
  },
  {
   "cell_type": "markdown",
   "metadata": {},
   "source": [
    "## Latitude vs. Humidity Plot"
   ]
  },
  {
   "cell_type": "code",
   "execution_count": 107,
   "metadata": {},
   "outputs": [
    {
     "data": {
      "image/png": "[encoded data removed]",
      "text/plain": [
       "<Figure size 432x288 with 1 Axes>"
      ]
     },
     "metadata": {
      "needs_background": "light"
     },
     "output_type": "display_data"
    }
   ],
   "source": [
    "ax1 = sorted_cities.plot.scatter(x='Lat',\n",
    "...                       y='Humidity',\n",
    "...                       c='DarkBlue',\n",
    "                                )\n",
    "ax1.grid()"
   ]
  },
  {
   "cell_type": "markdown",
   "metadata": {},
   "source": [
    "## Latitude vs. Cloudiness Plot"
   ]
  },
  {
   "cell_type": "code",
   "execution_count": 108,
   "metadata": {},
   "outputs": [
    {
     "data": {
      "image/png": "[encoded data removed]",
      "text/plain": [
       "<Figure size 432x288 with 1 Axes>"
      ]
     },
     "metadata": {
      "needs_background": "light"
     },
     "output_type": "display_data"
    }
   ],
   "source": [
    "ax1 = sorted_cities.plot.scatter(x='Lat',\n",
    "...                       y='Cloudiness',\n",
    "...                       c='DarkBlue',\n",
    "                                )\n",
    "ax1.grid()"
   ]
  },
  {
   "cell_type": "markdown",
   "metadata": {},
   "source": [
    "## Latitude vs. Wind Speed Plot"
   ]
  },
  {
   "cell_type": "code",
   "execution_count": 109,
   "metadata": {},
   "outputs": [
    {
     "data": {
      "image/png": "[encoded data removed]",
      "text/plain": [
       "<Figure size 432x288 with 1 Axes>"
      ]
     },
     "metadata": {
      "needs_background": "light"
     },
     "output_type": "display_data"
    }
   ],
   "source": [
    "ax1 = sorted_cities.plot.scatter(x='Lat',\n",
    "...                       y='Wind Speed',\n",
    "...                       c='DarkBlue',\n",
    "                                )\n",
    "ax1.grid()"
   ]
  },
  {
   "cell_type": "markdown",
   "metadata": {},
   "source": [
    "## Linear Regression"
   ]
  },
  {
   "cell_type": "code",
   "execution_count": 82,
   "metadata": {},
   "outputs": [],
   "source": [
    "# This time, separate the plots into Northern Hemisphere (greater than or equal to 0 degrees latitude) \n",
    "# and Southern Hemisphere (less than 0 degrees latitude):\n",
    "north_cities = sorted_cities[sorted_cities['Lat'] >= 0]\n",
    "south_cities = sorted_cities[sorted_cities['Lat'] < 0 ]"
   ]
  },
  {
   "cell_type": "markdown",
   "metadata": {},
   "source": [
    "####  Northern Hemisphere - Max Temp vs. Latitude Linear Regression"
   ]
  },
  {
   "cell_type": "code",
   "execution_count": 110,
   "metadata": {},
   "outputs": [
    {
     "name": "stdout",
     "output_type": "stream",
     "text": [
      "The r-value is: -0.6731250225105063\n"
     ]
    },
    {
     "data": {
      "image/png": "[encoded data removed]",
      "text/plain": [
       "<Figure size 432x288 with 1 Axes>"
      ]
     },
     "metadata": {
      "needs_background": "light"
     },
     "output_type": "display_data"
    }
   ],
   "source": [
    "ax1 = north_cities.plot.scatter(x='Lat',\n",
    "...                       y='Max Temp',\n",
    "...                       c='DarkBlue',\n",
    "                                )\n",
    "(slope, intercept, rvalue, pvalue, stderr) = linregress(north_cities['Lat'], north_cities['Max Temp'])\n",
    "print(f\"The r-value is: {rvalue}\")\n",
    "regress_values = north_cities['Lat'] * slope + intercept\n",
    "ax1.plot(north_cities['Lat'],regress_values,\"r-\")\n",
    "ax1.grid()"
   ]
  },
  {
   "cell_type": "markdown",
   "metadata": {},
   "source": [
    "####  Southern Hemisphere - Max Temp vs. Latitude Linear Regression"
   ]
  },
  {
   "cell_type": "code",
   "execution_count": 111,
   "metadata": {},
   "outputs": [
    {
     "name": "stdout",
     "output_type": "stream",
     "text": [
      "The r-value is: 0.7667867097596519\n"
     ]
    },
    {
     "data": {
      "image/png": "[encoded data removed]",
      "text/plain": [
       "<Figure size 432x288 with 1 Axes>"
      ]
     },
     "metadata": {
      "needs_background": "light"
     },
     "output_type": "display_data"
    }
   ],
   "source": [
    "ax1 = south_cities.plot.scatter(x='Lat',\n",
    "...                       y='Max Temp',\n",
    "...                       c='DarkBlue',\n",
    "                                )\n",
    "(slope, intercept, rvalue, pvalue, stderr) = linregress(south_cities['Lat'], south_cities['Max Temp'])\n",
    "print(f\"The r-value is: {rvalue}\")\n",
    "regress_values = south_cities['Lat'] * slope + intercept\n",
    "ax1.plot(south_cities['Lat'],regress_values,\"r-\")\n",
    "ax1.grid()"
   ]
  },
  {
   "cell_type": "markdown",
   "metadata": {},
   "source": [
    "####  Northern Hemisphere - Humidity (%) vs. Latitude Linear Regression"
   ]
  },
  {
   "cell_type": "code",
   "execution_count": 112,
   "metadata": {},
   "outputs": [
    {
     "name": "stdout",
     "output_type": "stream",
     "text": [
      "The r-value is: 0.014922159485247154\n"
     ]
    },
    {
     "data": {
      "image/png": "[encoded data removed]",
      "text/plain": [
       "<Figure size 432x288 with 1 Axes>"
      ]
     },
     "metadata": {
      "needs_background": "light"
     },
     "output_type": "display_data"
    }
   ],
   "source": [
    "\n",
    "ax1 = north_cities.plot.scatter(x='Lat',\n",
    "...                       y='Humidity',\n",
    "...                       c='DarkBlue',\n",
    "                                )\n",
    "(slope, intercept, rvalue, pvalue, stderr) = linregress(north_cities['Lat'], north_cities['Humidity'])\n",
    "print(f\"The r-value is: {rvalue}\")\n",
    "regress_values = north_cities['Lat'] * slope + intercept\n",
    "ax1.plot(north_cities['Lat'],regress_values,\"r-\")\n",
    "ax1.grid()"
   ]
  },
  {
   "cell_type": "markdown",
   "metadata": {},
   "source": [
    "####  Southern Hemisphere - Humidity (%) vs. Latitude Linear Regression"
   ]
  },
  {
   "cell_type": "code",
   "execution_count": 113,
   "metadata": {},
   "outputs": [
    {
     "name": "stdout",
     "output_type": "stream",
     "text": [
      "The r-value is: -0.24057472984396444\n"
     ]
    },
    {
     "data": {
      "image/png": "[encoded data removed]",
      "text/plain": [
       "<Figure size 432x288 with 1 Axes>"
      ]
     },
     "metadata": {
      "needs_background": "light"
     },
     "output_type": "display_data"
    }
   ],
   "source": [
    "ax1 = south_cities.plot.scatter(x='Lat',\n",
    "...                       y='Humidity',\n",
    "...                       c='DarkBlue',\n",
    "                                )\n",
    "(slope, intercept, rvalue, pvalue, stderr) = linregress(south_cities['Lat'], south_cities['Humidity'])\n",
    "print(f\"The r-value is: {rvalue}\")\n",
    "regress_values = south_cities['Lat'] * slope + intercept\n",
    "ax1.plot(south_cities['Lat'],regress_values,\"r-\")\n",
    "ax1.grid()"
   ]
  },
  {
   "cell_type": "markdown",
   "metadata": {},
   "source": [
    "####  Northern Hemisphere - Cloudiness (%) vs. Latitude Linear Regression"
   ]
  },
  {
   "cell_type": "code",
   "execution_count": 114,
   "metadata": {},
   "outputs": [
    {
     "name": "stdout",
     "output_type": "stream",
     "text": [
      "The r-value is: -0.08661122993930608\n"
     ]
    },
    {
     "data": {
      "image/png": "[encoded data removed]",
      "text/plain": [
       "<Figure size 432x288 with 1 Axes>"
      ]
     },
     "metadata": {
      "needs_background": "light"
     },
     "output_type": "display_data"
    }
   ],
   "source": [
    "ax1 = north_cities.plot.scatter(x='Lat',\n",
    "...                       y='Cloudiness',\n",
    "...                       c='DarkBlue',\n",
    "                                )\n",
    "(slope, intercept, rvalue, pvalue, stderr) = linregress(north_cities['Lat'], north_cities['Cloudiness'])\n",
    "print(f\"The r-value is: {rvalue}\")\n",
    "regress_values = north_cities['Lat'] * slope + intercept\n",
    "ax1.plot(north_cities['Lat'],regress_values,\"r-\")\n",
    "ax1.grid()"
   ]
  },
  {
   "cell_type": "markdown",
   "metadata": {},
   "source": [
    "####  Southern Hemisphere - Cloudiness (%) vs. Latitude Linear Regression"
   ]
  },
  {
   "cell_type": "code",
   "execution_count": 115,
   "metadata": {},
   "outputs": [
    {
     "name": "stdout",
     "output_type": "stream",
     "text": [
      "The r-value is: 0.010747966986115574\n"
     ]
    },
    {
     "data": {
      "image/png": "[encoded data removed]",
      "text/plain": [
       "<Figure size 432x288 with 1 Axes>"
      ]
     },
     "metadata": {
      "needs_background": "light"
     },
     "output_type": "display_data"
    }
   ],
   "source": [
    "ax1 = south_cities.plot.scatter(x='Lat',\n",
    "...                       y='Cloudiness',\n",
    "...                       c='DarkBlue',\n",
    "                                )\n",
    "(slope, intercept, rvalue, pvalue, stderr) = linregress(south_cities['Lat'], south_cities['Cloudiness'])\n",
    "print(f\"The r-value is: {rvalue}\")\n",
    "regress_values = south_cities['Lat'] * slope + intercept\n",
    "ax1.plot(south_cities['Lat'],regress_values,\"r-\")\n",
    "ax1.grid()"
   ]
  },
  {
   "cell_type": "markdown",
   "metadata": {},
   "source": [
    "####  Northern Hemisphere - Wind Speed (mph) vs. Latitude Linear Regression"
   ]
  },
  {
   "cell_type": "code",
   "execution_count": 116,
   "metadata": {},
   "outputs": [
    {
     "name": "stdout",
     "output_type": "stream",
     "text": [
      "The r-value is: 0.04296351515071964\n"
     ]
    },
    {
     "data": {
      "image/png": "[encoded data removed]",
      "text/plain": [
       "<Figure size 432x288 with 1 Axes>"
      ]
     },
     "metadata": {
      "needs_background": "light"
     },
     "output_type": "display_data"
    }
   ],
   "source": [
    "ax1 = north_cities.plot.scatter(x='Lat',\n",
    "...                       y='Wind Speed',\n",
    "...                       c='DarkBlue',\n",
    "                                )\n",
    "(slope, intercept, rvalue, pvalue, stderr) = linregress(north_cities['Lat'], north_cities['Wind Speed'])\n",
    "print(f\"The r-value is: {rvalue}\")\n",
    "regress_values = north_cities['Lat'] * slope + intercept\n",
    "ax1.plot(north_cities['Lat'],regress_values,\"r-\")\n",
    "ax1.grid()"
   ]
  },
  {
   "cell_type": "markdown",
   "metadata": {},
   "source": [
    "####  Southern Hemisphere - Wind Speed (mph) vs. Latitude Linear Regression"
   ]
  },
  {
   "cell_type": "code",
   "execution_count": 117,
   "metadata": {},
   "outputs": [
    {
     "name": "stdout",
     "output_type": "stream",
     "text": [
      "The r-value is: -0.17307005996717198\n"
     ]
    },
    {
     "data": {
      "image/png": "[encoded data removed]",
      "text/plain": [
       "<Figure size 432x288 with 1 Axes>"
      ]
     },
     "metadata": {
      "needs_background": "light"
     },
     "output_type": "display_data"
    }
   ],
   "source": [
    "ax1 = south_cities.plot.scatter(x='Lat',\n",
    "...                       y='Wind Speed',\n",
    "...                       c='DarkBlue',\n",
    "                                )\n",
    "(slope, intercept, rvalue, pvalue, stderr) = linregress(south_cities['Lat'], south_cities['Wind Speed'])\n",
    "print(f\"The r-value is: {rvalue}\")\n",
    "regress_values = south_cities['Lat'] * slope + intercept\n",
    "ax1.plot(south_cities['Lat'],regress_values,\"r-\")\n",
    "ax1.grid()"
   ]
  },
  {
   "cell_type": "code",
   "execution_count": null,
   "metadata": {},
   "outputs": [],
   "source": []
  }
 ],
 "metadata": {
  "anaconda-cloud": {},
  "kernel_info": {
   "name": "python3"
  },
  "kernelspec": {
   "display_name": "Python 3 (ipykernel)",
   "language": "python",
   "name": "python3"
  },
  "language_info": {
   "codemirror_mode": {
    "name": "ipython",
    "version": 3
   },
   "file_extension": ".py",
   "mimetype": "text/x-python",
   "name": "python",
   "nbconvert_exporter": "python",
   "pygments_lexer": "ipython3",
   "version": "3.9.12"
  },
  "latex_envs": {
   "LaTeX_envs_menu_present": true,
   "autoclose": false,
   "autocomplete": true,
   "bibliofile": "biblio.bib",
   "cite_by": "apalike",
   "current_citInitial": 1,
   "eqLabelWithNumbers": true,
   "eqNumInitial": 1,
   "hotkeys": {
    "equation": "Ctrl-E",
    "itemize": "Ctrl-I"
   },
   "labels_anchors": false,
   "latex_user_defs": false,
   "report_style_numbering": false,
   "user_envs_cfg": false
  },
  "nteract": {
   "version": "0.12.3"
  }
 },
 "nbformat": 4,
 "nbformat_minor": 2
}
